{
 "cells": [
  {
   "cell_type": "code",
   "execution_count": 1,
   "metadata": {},
   "outputs": [
    {
     "data": {
      "text/plain": [
       "[<IBMQSimulator('ibmq_qasm_simulator') from IBMQ(hub='ibm-q', group='open', project='main')>,\n",
       " <IBMQBackend('ibmqx2') from IBMQ(hub='ibm-q', group='open', project='main')>,\n",
       " <IBMQBackend('ibmq_16_melbourne') from IBMQ(hub='ibm-q', group='open', project='main')>,\n",
       " <IBMQBackend('ibmq_vigo') from IBMQ(hub='ibm-q', group='open', project='main')>,\n",
       " <IBMQBackend('ibmq_ourense') from IBMQ(hub='ibm-q', group='open', project='main')>,\n",
       " <IBMQBackend('ibmq_valencia') from IBMQ(hub='ibm-q', group='open', project='main')>,\n",
       " <IBMQBackend('ibmq_london') from IBMQ(hub='ibm-q', group='open', project='main')>,\n",
       " <IBMQBackend('ibmq_burlington') from IBMQ(hub='ibm-q', group='open', project='main')>,\n",
       " <IBMQBackend('ibmq_essex') from IBMQ(hub='ibm-q', group='open', project='main')>,\n",
       " <IBMQBackend('ibmq_armonk') from IBMQ(hub='ibm-q', group='open', project='main')>]"
      ]
     },
     "execution_count": 1,
     "metadata": {},
     "output_type": "execute_result"
    }
   ],
   "source": [
    "# initialization\n",
    "import matplotlib.pyplot as plt\n",
    "%matplotlib inline\n",
    "import numpy as np\n",
    "\n",
    "# importing Qiskit\n",
    "from qiskit import IBMQ, BasicAer\n",
    "from qiskit.providers.ibmq import least_busy\n",
    "from qiskit import QuantumCircuit, ClassicalRegister, QuantumRegister, execute\n",
    "\n",
    "# import basic plot tools\n",
    "from qiskit.tools.visualization import plot_histogram\n",
    "\n",
    "\n",
    "IBMQ.save_account('ad3965ae3913db06521d71bba9e1208319b91a9e7ab869744cd624d63a8e898cfef58312e0819dcc2a1a2ffa59a867a4fdf5f6e225c6f2c80f28e03d3bb1a61a',overwrite=True)\n",
    "\n",
    "#IBMQ.save_account('ebadbf7da56bb61d559a2f5fecd3d1d6e60d13ce5dd374f801829f3c92cd864b124e1ad5c1fd3faa6a14a5365f9d326947df8db138604049b06192da43d6a49b',overwrite=True)\n",
    "\n",
    "#IBMQ.save_account('676f27667e5b533a92387a7716d67080d9648d217e96873f767e3834c2861bd4590a7ffbff31002cbce3f215642436c9a2e3a731e24b797ed5acd92765a463c2',overwrite=True)\n",
    "#IBMQ.save_account('ebadbf7da56bb61d559a2f5fecd3d1d6e60d13ce5dd374f801829f3c92cd864b124e1ad5c1fd3faa6a14a5365f9d326947df8db138604049b06192da43d6a49b',overwrite=True)\n",
    "\n",
    "\n",
    "\n",
    "IBMQ.load_account()\n",
    "provider = IBMQ.get_provider(hub='ibm-q')\n",
    "provider.backends() "
   ]
  },
  {
   "cell_type": "code",
   "execution_count": 2,
   "metadata": {},
   "outputs": [],
   "source": [
    "from qiskit import *"
   ]
  },
  {
   "cell_type": "code",
   "execution_count": 3,
   "metadata": {},
   "outputs": [],
   "source": [
    "from qiskit.ignis.mitigation.measurement import (complete_meas_cal,CompleteMeasFitter)"
   ]
  },
  {
   "cell_type": "code",
   "execution_count": 4,
   "metadata": {},
   "outputs": [],
   "source": [
    "import sys\n",
    "import numpy\n",
    "numpy.set_printoptions(threshold=sys.maxsize)"
   ]
  },
  {
   "cell_type": "code",
   "execution_count": 5,
   "metadata": {},
   "outputs": [],
   "source": [
    "from qiskit.ignis.mitigation.measurement import (complete_meas_cal,CompleteMeasFitter)\n",
    "\n",
    "\n",
    "n=1\n",
    "qr = QuantumRegister(n)\n",
    "cr = ClassicalRegister(n)\n",
    "    \n",
    "circuit = QuantumCircuit(qr, cr)\n",
    "barriers = True\n",
    "\n",
    "\n",
    "            # Apply Hadamard gate\n",
    "circuit.h(qr)    \n",
    "    \n",
    "\n",
    "            # Apply Z-gate \n",
    "circuit.z(qr)  \n",
    "\n",
    "            # Apply barrier \n",
    "\n",
    "\n",
    "            # Apply Hadamard gate\n",
    "circuit.h(qr) \n",
    "\n",
    "            # Measure the register\n",
    "    \n",
    "for i in range(n):\n",
    "    circuit.measure(qr[i], cr[i])"
   ]
  },
  {
   "cell_type": "code",
   "execution_count": 6,
   "metadata": {},
   "outputs": [
    {
     "data": {
      "image/png": "[encoded data removed]",
      "text/plain": [
       "<Figure size 364.812x144.48 with 1 Axes>"
      ]
     },
     "execution_count": 6,
     "metadata": {},
     "output_type": "execute_result"
    }
   ],
   "source": [
    "circuit.draw('mpl')"
   ]
  },
  {
   "cell_type": "code",
   "execution_count": 7,
   "metadata": {},
   "outputs": [],
   "source": [
    "provider = IBMQ.get_provider(hub='ibm-q')\n",
    "#device = provider.get_backend('ibmq_vigo')"
   ]
  },
  {
   "cell_type": "code",
   "execution_count": 8,
   "metadata": {},
   "outputs": [],
   "source": [
    "FidelityFull1=[]\n",
    "FidelityPartial1=[]\n",
    "FidelityNoisy1=[]\n",
    "\n",
    "JobIDFull1=[]\n",
    "JobIDPartial1=[]\n",
    "JobID_DJA1=[]\n",
    "\n",
    "MatrixFull1=[]\n",
    "MatrixPartial1=[]"
   ]
  },
  {
   "cell_type": "code",
   "execution_count": 15,
   "metadata": {},
   "outputs": [],
   "source": [
    "from qiskit.ignis.mitigation.measurement import (complete_meas_cal, CompleteMeasFitter)\n",
    "cal_circuits, state_labels = complete_meas_cal(qr=circuit.qregs[0], \n",
    "                                               circlabel='measurement_calibration')\n",
    "device = provider.get_backend('ibmq_5_yorktown')\n",
    "bit='1'\n",
    "\n",
    "for j in range (0,14):\n",
    "    \n",
    "    Trials=2**j  \n",
    "    #Trials=8192\n",
    "    \n",
    "    job = execute(circuit, backend=device, shots=Trials)\n",
    "    device_result = job.result()\n",
    "    a=device_result.get_counts(circuit).get(bit)\n",
    "    \n",
    "    \n",
    "    cal_job = execute(cal_circuits,\n",
    "             backend=device,\n",
    "             shots=Trials,\n",
    "             optimization_level=0)\n",
    "    #print(cal_job.job_id())\n",
    "\n",
    "    cal_results = cal_job.result()\n",
    "\n",
    "    index=2**n-1\n",
    "    cal_job_partial = execute(cal_circuits[index],\n",
    "             backend=device,\n",
    "             shots=Trials,\n",
    "             optimization_level=0)\n",
    "    cal_results_partial = cal_job_partial.result()\n",
    "    #JobIDPartial.append(cal_job_partial.job_id())\n",
    "   \n",
    "    meas_fitter = CompleteMeasFitter(cal_results, state_labels)\n",
    "    meas_fitter_partial = CompleteMeasFitter(cal_results_partial, state_labels)\n",
    "    for k in range (2**n-1):\n",
    "        meas_fitter_partial.cal_matrix[k,k]=1\n",
    "        \n",
    "    \n",
    "    meas_filter_partial =meas_fitter_partial.filter\n",
    "    mitigated_result_partial = meas_filter_partial.apply(device_result)\n",
    "    mitigated_counts_partial = mitigated_result_partial.get_counts(circuit)\n",
    "    \n",
    "    meas_filter =meas_fitter.filter\n",
    "    mitigated_result = meas_filter.apply(device_result)\n",
    "    mitigated_counts = mitigated_result.get_counts(circuit)\n",
    "    \n",
    "    FidelityNoisy1.append(device_result.get_counts(circuit).get(bit)/Trials)\n",
    "    FidelityPartial1.append(mitigated_counts_partial.get(bit)/Trials)\n",
    "    FidelityFull1.append(mitigated_counts.get(bit)/Trials)\n",
    "    \n",
    "    JobIDFull1.append(\"'\"+str(cal_job.job_id())+\"'\")\n",
    "    JobIDPartial1.append(\"'\"+str(cal_job_partial.job_id())+\"'\")\n",
    "    JobID_DJA1.append(\"'\"+str(job.job_id())+\"'\")\n",
    "    \n",
    "    MatrixFull1.append(meas_fitter.cal_matrix)\n",
    "    MatrixPartial1.append(meas_fitter_partial.cal_matrix)"
   ]
  },
  {
   "cell_type": "code",
   "execution_count": null,
   "metadata": {},
   "outputs": [],
   "source": []
  },
  {
   "cell_type": "code",
   "execution_count": 16,
   "metadata": {},
   "outputs": [],
   "source": [
    "def MatlabStr(array):\n",
    "    return '[' + \"; \".join(\" \".join(\"%6g\" % val for val in line) for line in array) + ']'"
   ]
  },
  {
   "cell_type": "code",
   "execution_count": null,
   "metadata": {},
   "outputs": [],
   "source": []
  },
  {
   "cell_type": "code",
   "execution_count": 17,
   "metadata": {},
   "outputs": [
    {
     "name": "stdout",
     "output_type": "stream",
     "text": [
      "[1.0, 0.9999999999999998, 0.9999999999999998, 0.7499999999567736, 1.0, 0.9999999999999993, 0.965517241391804, 0.999999999999974, 0.9861751152004536, 0.9999999999982094, 0.9909194097497603, 0.9954519613357901, 0.9999999999999934, 1.0]\n",
      "[0.3687440151945284, 1.0, 0.9999999999999984, 0.8571428573468585, 0.9999999999999999, 0.9999999999999664, 0.9999999999999867, 0.9590163934343358, 0.9870689655196289, 0.9978813554990384, 0.992553188381681, 0.9814520400585869, 0.9999999999999992, 0.9999999999999974]\n",
      "[1.0, 1.0, 1.0, 0.75, 0.9375, 0.96875, 0.890625, 0.9140625, 0.89453125, 0.919921875, 0.9111328125, 0.904296875, 0.91162109375, 0.91552734375]\n",
      "[\"'5f2b599f159e2600136cbc90'\", \"'5f2b5cdbfa2efe00139612fc'\", \"'5f2b5e920ca1ba0011b3d30d'\", \"'5f2b6079fa2efe0013961341'\", \"'5f2b63a9c79cc2001a3ac7ec'\", \"'5f2b65d7f0563e001a6cbbe9'\", \"'5f2b67a00927b800133f9831'\", \"'5f2b69740927b800133f9849'\", \"'5f2b6cd00ca1ba0011b3d3f8'\", \"'5f2b6eadcbff540019b42e72'\", \"'5f2b70a2fa2efe001396141f'\", \"'5f2b75225b470a00125d4733'\", \"'5f2b78610ca1ba0011b3d494'\", \"'5f2b7a730ca1ba0011b3d4b1'\"]\n",
      "[\"'5f2b5b1f0ca1ba0011b3d2da'\", \"'5f2b5cf94ae7da001b374207'\", \"'5f2b5ed0c79cc2001a3ac79c'\", \"'5f2b61ff5b470a00125d4613'\", \"'5f2b63ef0927b800133f97f7'\", \"'5f2b6756cbff540019b42e04'\", \"'5f2b6920f0563e001a6cbc20'\", \"'5f2b6af34ae7da001b3742d8'\", \"'5f2b6d0f159e2600136cbdd3'\", \"'5f2b6ec64ae7da001b37430f'\", \"'5f2b7223c79cc2001a3ac8b7'\", \"'5f2b7694c79cc2001a3ac8ea'\", \"'5f2b78970ca1ba0011b3d49a'\", \"'5f2b7c0b0ca1ba0011b3d4cb'\"]\n",
      "[\"'5f2b59864ae7da001b3741c8'\", \"'5f2b5b5cfa2efe00139612e9'\", \"'5f2b5d12fa2efe0013961302'\", \"'5f2b6064cbff540019b42d98'\", \"'5f2b622a0927b800133f97d0'\", \"'5f2b6583cbff540019b42ded'\", \"'5f2b67780927b800133f982c'\", \"'5f2b693a4ae7da001b3742bf'\", \"'5f2b6b220927b800133f9864'\", \"'5f2b6e8e0ca1ba0011b3d40c'\", \"'5f2b7047f0563e001a6cbc88'\", \"'5f2b72e84ae7da001b37434f'\", \"'5f2b76d7c79cc2001a3ac8ec'\", \"'5f2b7a20cbff540019b42f08'\"]\n",
      "[array([[1., 0.],\n",
      "       [0., 1.]]), array([[1. , 0.5],\n",
      "       [0. , 0.5]]), array([[1. , 0.5],\n",
      "       [0. , 0.5]]), array([[1., 0.],\n",
      "       [0., 1.]]), array([[1.  , 0.25],\n",
      "       [0.  , 0.75]]), array([[1.     , 0.09375],\n",
      "       [0.     , 0.90625]]), array([[0.984375, 0.078125],\n",
      "       [0.015625, 0.921875]]), array([[0.9609375, 0.09375  ],\n",
      "       [0.0390625, 0.90625  ]]), array([[0.94140625, 0.09375   ],\n",
      "       [0.05859375, 0.90625   ]]), array([[0.91796875, 0.09570312],\n",
      "       [0.08203125, 0.90429688]]), array([[0.94140625, 0.08105469],\n",
      "       [0.05859375, 0.91894531]]), array([[0.95068359, 0.09179688],\n",
      "       [0.04931641, 0.90820312]]), array([[0.94506836, 0.09375   ],\n",
      "       [0.05493164, 0.90625   ]]), array([[0.94641113, 0.08911133],\n",
      "       [0.05358887, 0.91088867]])]\n",
      "[array([[1., 1.],\n",
      "       [0., 0.]]), array([[1. , 0.5],\n",
      "       [0. , 0.5]]), array([[1., 0.],\n",
      "       [0., 1.]]), array([[1.   , 0.125],\n",
      "       [0.   , 0.875]]), array([[1.  , 0.25],\n",
      "       [0.  , 0.75]]), array([[1.     , 0.09375],\n",
      "       [0.     , 0.90625]]), array([[1.      , 0.109375],\n",
      "       [0.      , 0.890625]]), array([[1.      , 0.046875],\n",
      "       [0.      , 0.953125]]), array([[1.     , 0.09375],\n",
      "       [0.     , 0.90625]]), array([[1.      , 0.078125],\n",
      "       [0.      , 0.921875]]), array([[1.        , 0.08203125],\n",
      "       [0.        , 0.91796875]]), array([[1.        , 0.07861328],\n",
      "       [0.        , 0.92138672]]), array([[1.        , 0.09228516],\n",
      "       [0.        , 0.90771484]]), array([[1.        , 0.08752441],\n",
      "       [0.        , 0.91247559]])]\n"
     ]
    }
   ],
   "source": [
    "print(FidelityFull1)\n",
    "print(FidelityPartial1)\n",
    "print(FidelityNoisy1)\n",
    "\n",
    "print(JobIDFull1)\n",
    "print(JobIDPartial1)\n",
    "print(JobID_DJA1)\n",
    "\n",
    "print(MatrixFull1)\n",
    "print(MatrixPartial1)"
   ]
  },
  {
   "cell_type": "code",
   "execution_count": null,
   "metadata": {},
   "outputs": [],
   "source": []
  },
  {
   "cell_type": "code",
   "execution_count": null,
   "metadata": {},
   "outputs": [],
   "source": [
    "\n",
    "\n"
   ]
  },
  {
   "cell_type": "code",
   "execution_count": null,
   "metadata": {},
   "outputs": [],
   "source": []
  },
  {
   "cell_type": "code",
   "execution_count": null,
   "metadata": {},
   "outputs": [],
   "source": []
  },
  {
   "cell_type": "markdown",
   "metadata": {},
   "source": [
    "# Here I put the full matrices"
   ]
  },
  {
   "cell_type": "code",
   "execution_count": 18,
   "metadata": {},
   "outputs": [
    {
     "name": "stdout",
     "output_type": "stream",
     "text": [
      "[     1      0;      0      1]\n",
      "[     1    0.5;      0    0.5]\n",
      "[     1    0.5;      0    0.5]\n",
      "[     1      0;      0      1]\n",
      "[     1   0.25;      0   0.75]\n",
      "[     1 0.09375;      0 0.90625]\n",
      "[0.984375 0.078125; 0.015625 0.921875]\n",
      "[0.960938 0.09375; 0.0390625 0.90625]\n",
      "[0.941406 0.09375; 0.0585938 0.90625]\n",
      "[0.917969 0.0957031; 0.0820312 0.904297]\n",
      "[0.941406 0.0810547; 0.0585938 0.918945]\n",
      "[0.950684 0.0917969; 0.0493164 0.908203]\n",
      "[0.945068 0.09375; 0.0549316 0.90625]\n",
      "[0.946411 0.0891113; 0.0535889 0.910889]\n"
     ]
    }
   ],
   "source": [
    "for j in MatrixFull1:\n",
    "    print(MatlabStr(j))"
   ]
  },
  {
   "cell_type": "markdown",
   "metadata": {},
   "source": [
    "# Here the partial"
   ]
  },
  {
   "cell_type": "code",
   "execution_count": 19,
   "metadata": {},
   "outputs": [
    {
     "name": "stdout",
     "output_type": "stream",
     "text": [
      "[     1      1;      0      0]\n",
      "[     1    0.5;      0    0.5]\n",
      "[     1      0;      0      1]\n",
      "[     1  0.125;      0  0.875]\n",
      "[     1   0.25;      0   0.75]\n",
      "[     1 0.09375;      0 0.90625]\n",
      "[     1 0.109375;      0 0.890625]\n",
      "[     1 0.046875;      0 0.953125]\n",
      "[     1 0.09375;      0 0.90625]\n",
      "[     1 0.078125;      0 0.921875]\n",
      "[     1 0.0820312;      0 0.917969]\n",
      "[     1 0.0786133;      0 0.921387]\n",
      "[     1 0.0922852;      0 0.907715]\n",
      "[     1 0.0875244;      0 0.912476]\n"
     ]
    }
   ],
   "source": [
    "for j in MatrixPartial1:\n",
    "    print(MatlabStr(j))"
   ]
  },
  {
   "cell_type": "code",
   "execution_count": null,
   "metadata": {},
   "outputs": [],
   "source": []
  },
  {
   "cell_type": "code",
   "execution_count": 2,
   "metadata": {},
   "outputs": [],
   "source": [
    "A=[[[1., 0.],\n",
    "       [0., 1.]], [[1. , 0.5],\n",
    "       [0. , 0.5]], [[1. , 0.5],\n",
    "       [0. , 0.5]], [[1., 0.],\n",
    "       [0., 1.]], [[1.  , 0.25],\n",
    "       [0.  , 0.75]], [[1.     , 0.09375],\n",
    "       [0.     , 0.90625]], [[0.984375, 0.078125],\n",
    "       [0.015625, 0.921875]], [[0.9609375, 0.09375  ],\n",
    "       [0.0390625, 0.90625  ]], [[0.94140625, 0.09375   ],\n",
    "       [0.05859375, 0.90625   ]], [[0.91796875, 0.09570312],\n",
    "       [0.08203125, 0.90429688]], [[0.94140625, 0.08105469],\n",
    "       [0.05859375, 0.91894531]], [[0.95068359, 0.09179688],\n",
    "       [0.04931641, 0.90820312]], [[0.94506836, 0.09375   ],\n",
    "       [0.05493164, 0.90625   ]], [[0.94641113, 0.08911133],\n",
    "       [0.05358887, 0.91088867]]]\n"
   ]
  },
  {
   "cell_type": "code",
   "execution_count": null,
   "metadata": {},
   "outputs": [],
   "source": []
  },
  {
   "cell_type": "code",
   "execution_count": 2,
   "metadata": {},
   "outputs": [
    {
     "name": "stdout",
     "output_type": "stream",
     "text": [
      " % N=1 shot\n",
      "1.000000 0.000000       0.000000 1.000000\n",
      " % N=2 shots\n",
      "1.000000 0.500000       0.000000 0.500000\n",
      " % N=4 shots\n",
      "1.000000 0.500000       0.000000 0.500000\n",
      " % N=8 shots\n",
      "1.000000 0.000000       0.000000 1.000000\n",
      " % N=16 shots\n",
      "1.000000 0.250000       0.000000 0.750000\n",
      " % N=32 shots\n",
      "1.000000 0.093750       0.000000 0.906250\n",
      " % N=64 shots\n",
      "0.984375 0.078125       0.015625 0.921875\n",
      " % N=128 shots\n",
      "0.960938 0.093750       0.039062 0.906250\n",
      " % N=256 shots\n",
      "0.941406 0.093750       0.058594 0.906250\n",
      " % N=512 shots\n",
      "0.917969 0.095703       0.082031 0.904297\n",
      " % N=1024 shots\n",
      "0.941406 0.081055       0.058594 0.918945\n",
      " % N=2048 shots\n",
      "0.950684 0.091797       0.049316 0.908203\n",
      " % N=4096 shots\n",
      "0.945068 0.093750       0.054932 0.906250\n",
      " % N=8192 shots\n",
      "0.946411 0.089111       0.053589 0.910889\n"
     ]
    }
   ],
   "source": [
    "def MatlabStr(array):\n",
    "    return  \"       \".join(\" \".join(\"%f\" % float(val) for val in line) for line in array)\n",
    "w=0\n",
    "    \n",
    "for j in A:\n",
    "    \n",
    "    if w==0:\n",
    "        print(\" % N=\"+str(2**w)+\" shot\")\n",
    "    else:\n",
    "        print(\" % N=\"+str(2**w)+\" shots\")\n",
    "    print(MatlabStr(j))\n",
    "    w=w+1"
   ]
  },
  {
   "cell_type": "code",
   "execution_count": null,
   "metadata": {},
   "outputs": [],
   "source": [
    "\n",
    "1.000000 0.000000 % N=1 shot\n",
    "0.000000 1.000000\n",
    "\n",
    "1.000000 0.500000 % N=2 shots\n",
    "0.000000 0.500000\n",
    "\n",
    "1.000000 0.500000 % N=4 shots\n",
    "0.000000 0.500000\n",
    "\n",
    "1.000000 0.000000 % N=8 shots\n",
    "0.000000 1.000000\n",
    "\n",
    "1.000000 0.250000 % N=16 shots\n",
    "0.000000 0.750000\n",
    "\n",
    "1.000000 0.093750 % N=32 shots\n",
    "0.000000 0.906250\n",
    "\n",
    "0.984375 0.078125 % N=64 shots \n",
    "0.015625 0.921875\n",
    "\n",
    "0.960938 0.093750 % N=128 shots\n",
    "0.039062 0.906250\n",
    "\n",
    "0.941406 0.093750 % N=256 shots\n",
    "0.058594 0.906250\n",
    "\n",
    "0.917969 0.095703 % N=512 shots\n",
    "0.082031 0.904297\n",
    "\n",
    "0.941406 0.081055 % N=1024 shots\n",
    "0.058594 0.918945\n",
    "\n",
    "0.950684 0.091797 % N=2048 shots\n",
    "0.049316 0.908203\n",
    "\n",
    "0.945068 0.093750 % N=4096 shots\n",
    "0.054932 0.906250\n",
    "\n",
    "0.946411 0.089111 % N=8192 shots\n",
    "0.053589 0.910889"
   ]
  },
  {
   "cell_type": "code",
   "execution_count": null,
   "metadata": {},
   "outputs": [],
   "source": []
  },
  {
   "cell_type": "code",
   "execution_count": 3,
   "metadata": {},
   "outputs": [],
   "source": [
    "B=[[[1., 1.],\n",
    "       [0., 0.]], [[1. , 0.5],\n",
    "       [0. , 0.5]], [[1., 0.],\n",
    "       [0., 1.]], [[1.   , 0.125],\n",
    "       [0.   , 0.875]], [[1.  , 0.25],\n",
    "       [0.  , 0.75]], [[1.     , 0.09375],\n",
    "       [0.     , 0.90625]], [[1.      , 0.109375],\n",
    "       [0.      , 0.890625]], [[1.      , 0.046875],\n",
    "       [0.      , 0.953125]], [[1.     , 0.09375],\n",
    "       [0.     , 0.90625]], [[1.      , 0.078125],\n",
    "       [0.      , 0.921875]], [[1.        , 0.08203125],\n",
    "       [0.        , 0.91796875]], [[1.        , 0.07861328],\n",
    "       [0.        , 0.92138672]], [[1.        , 0.09228516],\n",
    "       [0.        , 0.90771484]], [[1.        , 0.08752441],\n",
    "       [0.        , 0.91247559]]]"
   ]
  },
  {
   "cell_type": "code",
   "execution_count": 4,
   "metadata": {},
   "outputs": [
    {
     "name": "stdout",
     "output_type": "stream",
     "text": [
      " % N=1 shot\n",
      "1.000000 1.000000       0.000000 0.000000\n",
      " % N=2 shots\n",
      "1.000000 0.500000       0.000000 0.500000\n",
      " % N=4 shots\n",
      "1.000000 0.000000       0.000000 1.000000\n",
      " % N=8 shots\n",
      "1.000000 0.125000       0.000000 0.875000\n",
      " % N=16 shots\n",
      "1.000000 0.250000       0.000000 0.750000\n",
      " % N=32 shots\n",
      "1.000000 0.093750       0.000000 0.906250\n",
      " % N=64 shots\n",
      "1.000000 0.109375       0.000000 0.890625\n",
      " % N=128 shots\n",
      "1.000000 0.046875       0.000000 0.953125\n",
      " % N=256 shots\n",
      "1.000000 0.093750       0.000000 0.906250\n",
      " % N=512 shots\n",
      "1.000000 0.078125       0.000000 0.921875\n",
      " % N=1024 shots\n",
      "1.000000 0.082031       0.000000 0.917969\n",
      " % N=2048 shots\n",
      "1.000000 0.078613       0.000000 0.921387\n",
      " % N=4096 shots\n",
      "1.000000 0.092285       0.000000 0.907715\n",
      " % N=8192 shots\n",
      "1.000000 0.087524       0.000000 0.912476\n"
     ]
    }
   ],
   "source": [
    "def MatlabStr(array):\n",
    "    return  \"       \".join(\" \".join(\"%f\" % float(val) for val in line) for line in array)\n",
    "w=0\n",
    "    \n",
    "for j in B:\n",
    "    \n",
    "    if w==0:\n",
    "        print(\" % N=\"+str(2**w)+\" shot\")\n",
    "    else:\n",
    "        print(\" % N=\"+str(2**w)+\" shots\")\n",
    "    print(MatlabStr(j))\n",
    "    w=w+1"
   ]
  },
  {
   "cell_type": "code",
   "execution_count": null,
   "metadata": {},
   "outputs": [],
   "source": [
    "\n",
    "1.000000 1.000000 % N=1 shot\n",
    "0.000000 0.000000\n",
    "\n",
    "1.000000 0.500000 % N=2 shots\n",
    "0.000000 0.500000\n",
    "\n",
    "1.000000 0.000000 % N=4 shots\n",
    "0.000000 1.000000\n",
    "\n",
    "1.000000 0.125000 % N=8 shots\n",
    "0.000000 0.875000\n",
    "\n",
    "1.000000 0.250000 % N=16 shots\n",
    "0.000000 0.750000\n",
    "\n",
    "1.000000 0.093750 % N=32 shots\n",
    "0.000000 0.906250\n",
    "\n",
    "1.000000 0.109375 % N=64 shots\n",
    "0.000000 0.890625\n",
    "\n",
    "1.000000 0.046875 % N=128 shots\n",
    "0.000000 0.953125\n",
    "\n",
    "1.000000 0.093750 % N=256 shots\n",
    "0.000000 0.906250\n",
    "\n",
    "1.000000 0.078125 % N=512 shots\n",
    "0.000000 0.921875\n",
    "\n",
    "1.000000 0.082031 % N=1024 shots\n",
    "0.000000 0.917969\n",
    "\n",
    "1.000000 0.078613 % N=2048 shots\n",
    "0.000000 0.921387\n",
    "\n",
    "1.000000 0.092285 % N=4096 shots\n",
    "0.000000 0.907715\n",
    "\n",
    "1.000000 0.087524 % N=8192 shots\n",
    "0.000000 0.912476"
   ]
  },
  {
   "cell_type": "code",
   "execution_count": 1,
   "metadata": {},
   "outputs": [],
   "source": [
    "def stand7(w):\n",
    "    if len(str(w))<9:\n",
    "        return str(w)+(9-len(str(w)))*\"0\"  \n",
    "    else:\n",
    "        return str(w)[:9] \n",
    "\n",
    "def G7(A):\n",
    "    logN=0\n",
    "    for Matr in A:\n",
    "        w=0\n",
    "        for j in Matr:\n",
    "            prnt=''\n",
    "            for k in j:\n",
    "                prnt=prnt+stand7(k)+\" \"\n",
    "            if w==0:\n",
    "                if logN==0:\n",
    "                    prnt=prnt+\"% N=\"+str(2**logN)+\" shot\"\n",
    "                else:\n",
    "                    prnt=prnt+\"% N=\"+str(2**logN)+\" shots\"\n",
    "            w=w+1\n",
    "            print(prnt)\n",
    "        logN=logN+1\n",
    "        print('')"
   ]
  },
  {
   "cell_type": "code",
   "execution_count": 4,
   "metadata": {},
   "outputs": [
    {
     "name": "stdout",
     "output_type": "stream",
     "text": [
      "1.0000000 0.0000000 % N=1 shot\n",
      "0.0000000 1.0000000 \n",
      "\n",
      "1.0000000 0.5000000 % N=2 shots\n",
      "0.0000000 0.5000000 \n",
      "\n",
      "1.0000000 0.5000000 % N=4 shots\n",
      "0.0000000 0.5000000 \n",
      "\n",
      "1.0000000 0.0000000 % N=8 shots\n",
      "0.0000000 1.0000000 \n",
      "\n",
      "1.0000000 0.2500000 % N=16 shots\n",
      "0.0000000 0.7500000 \n",
      "\n",
      "1.0000000 0.0937500 % N=32 shots\n",
      "0.0000000 0.9062500 \n",
      "\n",
      "0.9843750 0.0781250 % N=64 shots\n",
      "0.0156250 0.9218750 \n",
      "\n",
      "0.9609375 0.0937500 % N=128 shots\n",
      "0.0390625 0.9062500 \n",
      "\n",
      "0.9414062 0.0937500 % N=256 shots\n",
      "0.0585937 0.9062500 \n",
      "\n",
      "0.9179687 0.0957031 % N=512 shots\n",
      "0.0820312 0.9042968 \n",
      "\n",
      "0.9414062 0.0810546 % N=1024 shots\n",
      "0.0585937 0.9189453 \n",
      "\n",
      "0.9506835 0.0917968 % N=2048 shots\n",
      "0.0493164 0.9082031 \n",
      "\n",
      "0.9450683 0.0937500 % N=4096 shots\n",
      "0.0549316 0.9062500 \n",
      "\n",
      "0.9464111 0.0891113 % N=8192 shots\n",
      "0.0535888 0.9108886 \n",
      "\n"
     ]
    }
   ],
   "source": [
    "G7(A)"
   ]
  },
  {
   "cell_type": "code",
   "execution_count": 7,
   "metadata": {},
   "outputs": [
    {
     "name": "stdout",
     "output_type": "stream",
     "text": [
      "1.0000000 1.0000000 % N=1 shot\n",
      "0.0000000 0.0000000 \n",
      "\n",
      "1.0000000 0.5000000 % N=2 shots\n",
      "0.0000000 0.5000000 \n",
      "\n",
      "1.0000000 0.0000000 % N=4 shots\n",
      "0.0000000 1.0000000 \n",
      "\n",
      "1.0000000 0.1250000 % N=8 shots\n",
      "0.0000000 0.8750000 \n",
      "\n",
      "1.0000000 0.2500000 % N=16 shots\n",
      "0.0000000 0.7500000 \n",
      "\n",
      "1.0000000 0.0937500 % N=32 shots\n",
      "0.0000000 0.9062500 \n",
      "\n",
      "1.0000000 0.1093750 % N=64 shots\n",
      "0.0000000 0.8906250 \n",
      "\n",
      "1.0000000 0.0468750 % N=128 shots\n",
      "0.0000000 0.9531250 \n",
      "\n",
      "1.0000000 0.0937500 % N=256 shots\n",
      "0.0000000 0.9062500 \n",
      "\n",
      "1.0000000 0.0781250 % N=512 shots\n",
      "0.0000000 0.9218750 \n",
      "\n",
      "1.0000000 0.0820312 % N=1024 shots\n",
      "0.0000000 0.9179687 \n",
      "\n",
      "1.0000000 0.0786132 % N=2048 shots\n",
      "0.0000000 0.9213867 \n",
      "\n",
      "1.0000000 0.0922851 % N=4096 shots\n",
      "0.0000000 0.9077148 \n",
      "\n",
      "1.0000000 0.0875244 % N=8192 shots\n",
      "0.0000000 0.9124755 \n",
      "\n"
     ]
    }
   ],
   "source": [
    "G7(B)"
   ]
  },
  {
   "cell_type": "code",
   "execution_count": null,
   "metadata": {},
   "outputs": [],
   "source": []
  }
 ],
 "metadata": {
  "kernelspec": {
   "display_name": "Python 3",
   "language": "python",
   "name": "python3"
  },
  "language_info": {
   "codemirror_mode": {
    "name": "ipython",
    "version": 3
   },
   "file_extension": ".py",
   "mimetype": "text/x-python",
   "name": "python",
   "nbconvert_exporter": "python",
   "pygments_lexer": "ipython3",
   "version": "3.7.4"
  }
 },
 "nbformat": 4,
 "nbformat_minor": 2
}
