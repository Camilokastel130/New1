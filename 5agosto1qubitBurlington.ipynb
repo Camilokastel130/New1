{
 "cells": [
  {
   "cell_type": "code",
   "execution_count": 9,
   "metadata": {},
   "outputs": [
    {
     "name": "stderr",
     "output_type": "stream",
     "text": [
      "ibmqfactory.load_account:WARNING:2020-08-05 18:09:31,915: Credentials are already in use. The existing account in the session will be replaced.\n"
     ]
    },
    {
     "data": {
      "text/plain": [
       "[<IBMQSimulator('ibmq_qasm_simulator') from IBMQ(hub='ibm-q', group='open', project='main')>,\n",
       " <IBMQBackend('ibmqx2') from IBMQ(hub='ibm-q', group='open', project='main')>,\n",
       " <IBMQBackend('ibmq_16_melbourne') from IBMQ(hub='ibm-q', group='open', project='main')>,\n",
       " <IBMQBackend('ibmq_vigo') from IBMQ(hub='ibm-q', group='open', project='main')>,\n",
       " <IBMQBackend('ibmq_ourense') from IBMQ(hub='ibm-q', group='open', project='main')>,\n",
       " <IBMQBackend('ibmq_valencia') from IBMQ(hub='ibm-q', group='open', project='main')>,\n",
       " <IBMQBackend('ibmq_london') from IBMQ(hub='ibm-q', group='open', project='main')>,\n",
       " <IBMQBackend('ibmq_burlington') from IBMQ(hub='ibm-q', group='open', project='main')>,\n",
       " <IBMQBackend('ibmq_essex') from IBMQ(hub='ibm-q', group='open', project='main')>,\n",
       " <IBMQBackend('ibmq_armonk') from IBMQ(hub='ibm-q', group='open', project='main')>]"
      ]
     },
     "execution_count": 9,
     "metadata": {},
     "output_type": "execute_result"
    }
   ],
   "source": [
    "# initialization\n",
    "import matplotlib.pyplot as plt\n",
    "%matplotlib inline\n",
    "import numpy as np\n",
    "\n",
    "# importing Qiskit\n",
    "from qiskit import IBMQ, BasicAer\n",
    "from qiskit.providers.ibmq import least_busy\n",
    "from qiskit import QuantumCircuit, ClassicalRegister, QuantumRegister, execute\n",
    "\n",
    "# import basic plot tools\n",
    "from qiskit.tools.visualization import plot_histogram\n",
    "\n",
    "\n",
    "IBMQ.save_account('ad3965ae3913db06521d71bba9e1208319b91a9e7ab869744cd624d63a8e898cfef58312e0819dcc2a1a2ffa59a867a4fdf5f6e225c6f2c80f28e03d3bb1a61a',overwrite=True)\n",
    "\n",
    "#IBMQ.save_account('ebadbf7da56bb61d559a2f5fecd3d1d6e60d13ce5dd374f801829f3c92cd864b124e1ad5c1fd3faa6a14a5365f9d326947df8db138604049b06192da43d6a49b',overwrite=True)\n",
    "\n",
    "#IBMQ.save_account('676f27667e5b533a92387a7716d67080d9648d217e96873f767e3834c2861bd4590a7ffbff31002cbce3f215642436c9a2e3a731e24b797ed5acd92765a463c2',overwrite=True)\n",
    "#IBMQ.save_account('ebadbf7da56bb61d559a2f5fecd3d1d6e60d13ce5dd374f801829f3c92cd864b124e1ad5c1fd3faa6a14a5365f9d326947df8db138604049b06192da43d6a49b',overwrite=True)\n",
    "\n",
    "\n",
    "\n",
    "IBMQ.load_account()\n",
    "provider = IBMQ.get_provider(hub='ibm-q')\n",
    "provider.backends() "
   ]
  },
  {
   "cell_type": "code",
   "execution_count": 10,
   "metadata": {},
   "outputs": [],
   "source": [
    "from qiskit import *"
   ]
  },
  {
   "cell_type": "code",
   "execution_count": 11,
   "metadata": {},
   "outputs": [],
   "source": [
    "from qiskit.ignis.mitigation.measurement import (complete_meas_cal,CompleteMeasFitter)"
   ]
  },
  {
   "cell_type": "code",
   "execution_count": 12,
   "metadata": {},
   "outputs": [],
   "source": [
    "import sys\n",
    "import numpy\n",
    "numpy.set_printoptions(threshold=sys.maxsize)"
   ]
  },
  {
   "cell_type": "code",
   "execution_count": 13,
   "metadata": {},
   "outputs": [],
   "source": [
    "from qiskit.ignis.mitigation.measurement import (complete_meas_cal,CompleteMeasFitter)\n",
    "\n",
    "\n",
    "n=1\n",
    "qr = QuantumRegister(n)\n",
    "cr = ClassicalRegister(n)\n",
    "    \n",
    "circuit = QuantumCircuit(qr, cr)\n",
    "barriers = True\n",
    "\n",
    "\n",
    "            # Apply Hadamard gate\n",
    "circuit.h(qr)    \n",
    "    \n",
    "\n",
    "            # Apply Z-gate \n",
    "circuit.z(qr)  \n",
    "\n",
    "            # Apply barrier \n",
    "\n",
    "\n",
    "            # Apply Hadamard gate\n",
    "circuit.h(qr) \n",
    "\n",
    "            # Measure the register\n",
    "    \n",
    "for i in range(n):\n",
    "    circuit.measure(qr[i], cr[i])"
   ]
  },
  {
   "cell_type": "code",
   "execution_count": 14,
   "metadata": {},
   "outputs": [
    {
     "data": {
      "image/png": "[encoded data removed]",
      "text/plain": [
       "<Figure size 364.812x144.48 with 1 Axes>"
      ]
     },
     "execution_count": 14,
     "metadata": {},
     "output_type": "execute_result"
    }
   ],
   "source": [
    "circuit.draw('mpl')"
   ]
  },
  {
   "cell_type": "code",
   "execution_count": 15,
   "metadata": {},
   "outputs": [],
   "source": [
    "provider = IBMQ.get_provider(hub='ibm-q')\n",
    "#device = provider.get_backend('ibmq_vigo')"
   ]
  },
  {
   "cell_type": "code",
   "execution_count": 17,
   "metadata": {},
   "outputs": [],
   "source": [
    "FidelityFull1=[]\n",
    "FidelityPartial1=[]\n",
    "FidelityNoisy1=[]\n",
    "\n",
    "JobIDFull1=[]\n",
    "JobIDPartial1=[]\n",
    "JobID_DJA1=[]\n",
    "\n",
    "MatrixFull1=[]\n",
    "MatrixPartial1=[]"
   ]
  },
  {
   "cell_type": "code",
   "execution_count": 19,
   "metadata": {},
   "outputs": [
    {
     "name": "stderr",
     "output_type": "stream",
     "text": [
      "Unexpected exception in keepalive ping task\n",
      "Traceback (most recent call last):\n",
      "  File \"C:\\Users\\kumik\\Anaconda3\\lib\\site-packages\\websockets\\protocol.py\", line 984, in keepalive_ping\n",
      "    ping_waiter = yield from self.ping()\n",
      "  File \"C:\\Users\\kumik\\Anaconda3\\lib\\site-packages\\websockets\\protocol.py\", line 583, in ping\n",
      "    yield from self.ensure_open()\n",
      "  File \"C:\\Users\\kumik\\Anaconda3\\lib\\site-packages\\websockets\\protocol.py\", line 658, in ensure_open\n",
      "    ) from self.transfer_data_exc\n",
      "websockets.exceptions.ConnectionClosed: WebSocket connection is closed: code = 4002 (private use), no reason\n"
     ]
    }
   ],
   "source": [
    "from qiskit.ignis.mitigation.measurement import (complete_meas_cal, CompleteMeasFitter)\n",
    "cal_circuits, state_labels = complete_meas_cal(qr=circuit.qregs[0], \n",
    "                                               circlabel='measurement_calibration')\n",
    "device = provider.get_backend('ibmq_burlington')\n",
    "bit='1'\n",
    "\n",
    "for j in range (0,14):\n",
    "    \n",
    "    Trials=2**j  \n",
    "    #Trials=8192\n",
    "    \n",
    "    job = execute(circuit, backend=device, shots=Trials)\n",
    "    device_result = job.result()\n",
    "    a=device_result.get_counts(circuit).get(bit)\n",
    "    \n",
    "    \n",
    "    cal_job = execute(cal_circuits,\n",
    "             backend=device,\n",
    "             shots=Trials,\n",
    "             optimization_level=0)\n",
    "    #print(cal_job.job_id())\n",
    "\n",
    "    cal_results = cal_job.result()\n",
    "\n",
    "    index=2**n-1\n",
    "    cal_job_partial = execute(cal_circuits[index],\n",
    "             backend=device,\n",
    "             shots=Trials,\n",
    "             optimization_level=0)\n",
    "    cal_results_partial = cal_job_partial.result()\n",
    "    #JobIDPartial.append(cal_job_partial.job_id())\n",
    "   \n",
    "    meas_fitter = CompleteMeasFitter(cal_results, state_labels)\n",
    "    meas_fitter_partial = CompleteMeasFitter(cal_results_partial, state_labels)\n",
    "    for k in range (2**n-1):\n",
    "        meas_fitter_partial.cal_matrix[k,k]=1\n",
    "        \n",
    "    \n",
    "    meas_filter_partial =meas_fitter_partial.filter\n",
    "    mitigated_result_partial = meas_filter_partial.apply(device_result)\n",
    "    mitigated_counts_partial = mitigated_result_partial.get_counts(circuit)\n",
    "    \n",
    "    meas_filter =meas_fitter.filter\n",
    "    mitigated_result = meas_filter.apply(device_result)\n",
    "    mitigated_counts = mitigated_result.get_counts(circuit)\n",
    "    \n",
    "    FidelityNoisy1.append(device_result.get_counts(circuit).get(bit)/Trials)\n",
    "    FidelityPartial1.append(mitigated_counts_partial.get(bit)/Trials)\n",
    "    FidelityFull1.append(mitigated_counts.get(bit)/Trials)\n",
    "    \n",
    "    JobIDFull1.append(\"'\"+str(cal_job.job_id())+\"'\")\n",
    "    JobIDPartial1.append(\"'\"+str(cal_job_partial.job_id())+\"'\")\n",
    "    JobID_DJA1.append(\"'\"+str(job.job_id())+\"'\")\n",
    "    \n",
    "    MatrixFull1.append(meas_fitter.cal_matrix)\n",
    "    MatrixPartial1.append(meas_fitter_partial.cal_matrix)"
   ]
  },
  {
   "cell_type": "code",
   "execution_count": null,
   "metadata": {},
   "outputs": [],
   "source": []
  },
  {
   "cell_type": "code",
   "execution_count": 22,
   "metadata": {},
   "outputs": [],
   "source": [
    "def MatlabStr(array):\n",
    "    return '[' + \"; \".join(\" \".join(\"%6g\" % val for val in line) for line in array) + ']'"
   ]
  },
  {
   "cell_type": "code",
   "execution_count": null,
   "metadata": {},
   "outputs": [],
   "source": []
  },
  {
   "cell_type": "code",
   "execution_count": 23,
   "metadata": {},
   "outputs": [
    {
     "name": "stdout",
     "output_type": "stream",
     "text": [
      "[1.0, 0.9999999999999998, 0.9999999999999992, 1.0, 1.0, 0.933333333375066, 0.9508196735010277, 0.983739837403985, 0.9999999999976452, 0.9979253108582936, 0.9999999999849767, 0.9873031994312859, 1.0, 0.9999999999999997]\n",
      "[1.0, 0.9999999999999996, 1.0, 0.8750000002109121, 1.0, 0.9062499999631913, 0.9677419355013869, 0.9999999999998752, 0.9959183673533787, 0.9999999999963406, 0.9969696969671541, 0.9984763839504835, 1.0, 0.9935963111997713]\n",
      "[1.0, 1.0, 1.0, 0.875, 1.0, 0.90625, 0.9375, 0.953125, 0.953125, 0.958984375, 0.9638671875, 0.9599609375, 0.94482421875, 0.947021484375]\n",
      "[\"'5f2b3d490927b800133f960e'\", \"'5f2b3dbb0ca1ba0011b3d176'\", \"'5f2b3e12159e2600136cbb53'\", \"'5f2b3e500927b800133f9617'\", \"'5f2b3e980ca1ba0011b3d181'\", \"'5f2b3ee34ae7da001b3740a5'\", \"'5f2b3f31159e2600136cbb61'\", \"'5f2b3f845b470a00125d4462'\", \"'5f2b3fdd4ae7da001b3740ae'\", \"'5f2b4044cbff540019b42c02'\", \"'5f2b40cacbff540019b42c0c'\", \"'5f2b4195c79cc2001a3ac63b'\", \"'5f2b42a89b21aa001a1ca7f7'\", \"'5f2b4309159e2600136cbb92'\"]\n",
      "[\"'5f2b3d76c79cc2001a3ac607'\", \"'5f2b3de09b21aa001a1ca7c0'\", \"'5f2b3e2a4ae7da001b37409c'\", \"'5f2b3e66f0563e001a6cb9f7'\", \"'5f2b3eb2cbff540019b42bf7'\", \"'5f2b3eff0927b800133f9621'\", \"'5f2b3f500927b800133f9626'\", \"'5f2b3fa70927b800133f962c'\", \"'5f2b400ac79cc2001a3ac622'\", \"'5f2b4085cbff540019b42c08'\", \"'5f2b4133f0563e001a6cba19'\", \"'5f2b42595b470a00125d4482'\", \"'5f2b42c6fa2efe00139611c3'\", \"'5f2b43329b21aa001a1ca7fe'\"]\n",
      "[\"'5f2b3d2e0ca1ba0011b3d16f'\", \"'5f2b3da44ae7da001b374094'\", \"'5f2b3df99b21aa001a1ca7c2'\", \"'5f2b3e3dfa2efe0013961192'\", \"'5f2b3e7ec79cc2001a3ac614'\", \"'5f2b3eca0927b800133f961d'\", \"'5f2b3f18fa2efe001396119b'\", \"'5f2b3f6a4ae7da001b3740aa'\", \"'5f2b3fc1159e2600136cbb69'\", \"'5f2b40250ca1ba0011b3d193'\", \"'5f2b40a40927b800133f963a'\", \"'5f2b4164c79cc2001a3ac637'\", \"'5f2b428cfa2efe00139611c1'\", \"'5f2b42e1159e2600136cbb91'\"]\n",
      "[array([[1., 0.],\n",
      "       [0., 1.]]), array([[1., 0.],\n",
      "       [0., 1.]]), array([[1., 0.],\n",
      "       [0., 1.]]), array([[1.   , 0.125],\n",
      "       [0.   , 0.875]]), array([[1., 0.],\n",
      "       [0., 1.]]), array([[0.96875, 0.03125],\n",
      "       [0.03125, 0.96875]]), array([[0.96875 , 0.015625],\n",
      "       [0.03125 , 0.984375]]), array([[0.9921875, 0.03125  ],\n",
      "       [0.0078125, 0.96875  ]]), array([[0.98828125, 0.05078125],\n",
      "       [0.01171875, 0.94921875]]), array([[0.98046875, 0.0390625 ],\n",
      "       [0.01953125, 0.9609375 ]]), array([[0.98828125, 0.04003906],\n",
      "       [0.01171875, 0.95996094]]), array([[0.98925781, 0.02783203],\n",
      "       [0.01074219, 0.97216797]]), array([[0.98242188, 0.05932617],\n",
      "       [0.01757812, 0.94067383]]), array([[0.98010254, 0.05505371],\n",
      "       [0.01989746, 0.94494629]])]\n",
      "[array([[1., 0.],\n",
      "       [0., 1.]]), array([[1., 0.],\n",
      "       [0., 1.]]), array([[1., 0.],\n",
      "       [0., 1.]]), array([[1., 0.],\n",
      "       [0., 1.]]), array([[1., 0.],\n",
      "       [0., 1.]]), array([[1., 0.],\n",
      "       [0., 1.]]), array([[1.     , 0.03125],\n",
      "       [0.     , 0.96875]]), array([[1.      , 0.046875],\n",
      "       [0.      , 0.953125]]), array([[1.        , 0.04296875],\n",
      "       [0.        , 0.95703125]]), array([[1.      , 0.046875],\n",
      "       [0.      , 0.953125]]), array([[1.        , 0.03320312],\n",
      "       [0.        , 0.96679688]]), array([[1.        , 0.03857422],\n",
      "       [0.        , 0.96142578]]), array([[1.        , 0.05981445],\n",
      "       [0.        , 0.94018555]]), array([[1.      , 0.046875],\n",
      "       [0.      , 0.953125]])]\n"
     ]
    }
   ],
   "source": [
    "print(FidelityFull1)\n",
    "print(FidelityPartial1)\n",
    "print(FidelityNoisy1)\n",
    "\n",
    "print(JobIDFull1)\n",
    "print(JobIDPartial1)\n",
    "print(JobID_DJA1)\n",
    "\n",
    "print(MatrixFull1)\n",
    "print(MatrixPartial1)"
   ]
  },
  {
   "cell_type": "markdown",
   "metadata": {},
   "source": [
    "# Full"
   ]
  },
  {
   "cell_type": "code",
   "execution_count": 26,
   "metadata": {},
   "outputs": [
    {
     "name": "stdout",
     "output_type": "stream",
     "text": [
      "[     1      0;      0      1]\n",
      "[     1      0;      0      1]\n",
      "[     1      0;      0      1]\n",
      "[     1  0.125;      0  0.875]\n",
      "[     1      0;      0      1]\n",
      "[0.96875 0.03125; 0.03125 0.96875]\n",
      "[0.96875 0.015625; 0.03125 0.984375]\n",
      "[0.992188 0.03125; 0.0078125 0.96875]\n",
      "[0.988281 0.0507812; 0.0117188 0.949219]\n",
      "[0.980469 0.0390625; 0.0195312 0.960938]\n",
      "[0.988281 0.0400391; 0.0117188 0.959961]\n",
      "[0.989258 0.027832; 0.0107422 0.972168]\n",
      "[0.982422 0.0593262; 0.0175781 0.940674]\n",
      "[0.980103 0.0550537; 0.0198975 0.944946]\n"
     ]
    }
   ],
   "source": [
    "for j in MatrixFull1:\n",
    "    print(MatlabStr(j))"
   ]
  },
  {
   "cell_type": "markdown",
   "metadata": {},
   "source": [
    "# Partial"
   ]
  },
  {
   "cell_type": "code",
   "execution_count": 27,
   "metadata": {},
   "outputs": [
    {
     "name": "stdout",
     "output_type": "stream",
     "text": [
      "[     1      0;      0      1]\n",
      "[     1      0;      0      1]\n",
      "[     1      0;      0      1]\n",
      "[     1      0;      0      1]\n",
      "[     1      0;      0      1]\n",
      "[     1      0;      0      1]\n",
      "[     1 0.03125;      0 0.96875]\n",
      "[     1 0.046875;      0 0.953125]\n",
      "[     1 0.0429688;      0 0.957031]\n",
      "[     1 0.046875;      0 0.953125]\n",
      "[     1 0.0332031;      0 0.966797]\n",
      "[     1 0.0385742;      0 0.961426]\n",
      "[     1 0.0598145;      0 0.940186]\n",
      "[     1 0.046875;      0 0.953125]\n"
     ]
    }
   ],
   "source": [
    "for j in MatrixPartial1:\n",
    "    print(MatlabStr(j))"
   ]
  },
  {
   "cell_type": "code",
   "execution_count": null,
   "metadata": {},
   "outputs": [],
   "source": [
    "1 Qubit\n",
    "\n",
    "Full mitigated matrices\n",
    "\n",
    "N=1\n",
    "\n",
    "      1      0\n",
    "      0      1\n",
    "        \n",
    "N=2        \n",
    "\n",
    "      1      0\n",
    "      0      1\n",
    "        \n",
    "N=4\n",
    "\n",
    "      1      0\n",
    "      0      1\n",
    "\n",
    "N=8\n",
    "\n",
    "      1  0.125\n",
    "      0  0.875\n",
    "        \n",
    "N=16\n",
    "\n",
    "      1      0\n",
    "      0      1\n",
    "        \n",
    "N=32\n",
    "\n",
    " 0.96875 0.03125\n",
    " 0.03125 0.96875\n",
    "\n",
    "N=64\n",
    "\n",
    " 0.96875 0.015625\n",
    " 0.03125 0.984375\n",
    "\n",
    "N=128\n",
    "\n",
    " 0.992188 0.03125\n",
    " 0.0078125 0.96875\n",
    "\n",
    "N=256\n",
    "\n",
    " 0.988281 0.0507812\n",
    " 0.0117188 0.949219\n",
    "\n",
    "N=512\n",
    "\n",
    " 0.980469 0.0390625\n",
    " 0.0195312 0.960938\n",
    "\n",
    "N=1024\n",
    "\n",
    " 0.988281 0.0400391\n",
    " 0.0117188 0.959961\n",
    "\n",
    "N=2048\n",
    "    \n",
    " 0.989258 0.027832\n",
    " 0.0107422 0.972168\n",
    "    \n",
    "N=4096    \n",
    "\n",
    " 0.982422 0.0593262\n",
    " 0.0175781 0.940674 \n",
    "\n",
    "N=8192\n",
    "\n",
    " 0.980103 0.0550537\n",
    " 0.0198975 0.944946 \n",
    "\n",
    "\n",
    "Partially mitigated matrices:\n",
    "    \n",
    "N=1\n",
    "\n",
    "      1      0\n",
    "      0      1\n",
    "\n",
    "N=2\n",
    "\n",
    "      1      0\n",
    "      0      1\n",
    "        \n",
    "N=4\n",
    "\n",
    "      1      0\n",
    "      0      1\n",
    "        \n",
    "N=8\n",
    "\n",
    "      1      0\n",
    "      0      1\n",
    "    \n",
    "N=16\n",
    "\n",
    "      1      0\n",
    "      0      1\n",
    "\n",
    "N=32\n",
    "\n",
    "      1      0\n",
    "      0      1\n",
    "        \n",
    "N=64\n",
    "\n",
    "      1 0.03125\n",
    "      0 0.96875\n",
    "\n",
    "N=128\n",
    "\n",
    "      1 0.046875\n",
    "      0 0.953125\n",
    "        \n",
    "N=256\n",
    "\n",
    "      1 0.0429688\n",
    "      0 0.957031\n",
    "        \n",
    "N=512\n",
    "\n",
    "      1 0.046875\n",
    "      0 0.953125\n",
    "    \n",
    "N=1024\n",
    "\n",
    "      1 0.0332031\n",
    "      0 0.966797\n",
    "        \n",
    "N=2048\n",
    "\n",
    "      1 0.0385742\n",
    "      0 0.961426\n",
    "\n",
    "N=4096 \n",
    "\n",
    "      1 0.0598145\n",
    "      0 0.940186\n",
    "\n",
    "N=8192\n",
    "\n",
    "      1 0.046875\n",
    "      0 0.953125"
   ]
  },
  {
   "cell_type": "code",
   "execution_count": 3,
   "metadata": {},
   "outputs": [],
   "source": [
    "A=[[[1., 0.],\n",
    "       [0., 1.]], [[1., 0.],\n",
    "       [0., 1.]], [[1., 0.],\n",
    "       [0., 1.]], [[1.   , 0.125],\n",
    "       [0.   , 0.875]], [[1., 0.],\n",
    "       [0., 1.]], [[0.96875, 0.03125],\n",
    "       [0.03125, 0.96875]], [[0.96875 , 0.015625],\n",
    "       [0.03125 , 0.984375]], [[0.9921875, 0.03125  ],\n",
    "       [0.0078125, 0.96875  ]], [[0.98828125, 0.05078125],\n",
    "       [0.01171875, 0.94921875]],[[0.98046875, 0.0390625 ],\n",
    "       [0.01953125, 0.9609375 ]], [[0.98828125, 0.04003906],\n",
    "       [0.01171875, 0.95996094]], [[0.98925781, 0.02783203],\n",
    "       [0.01074219, 0.97216797]], [[0.98242188, 0.05932617],\n",
    "       [0.01757812, 0.94067383]], [[0.98010254, 0.05505371],\n",
    "       [0.01989746, 0.94494629]]]\n"
   ]
  },
  {
   "cell_type": "markdown",
   "metadata": {},
   "source": [
    "# Full Mitigated 8 august format"
   ]
  },
  {
   "cell_type": "code",
   "execution_count": 5,
   "metadata": {},
   "outputs": [
    {
     "name": "stdout",
     "output_type": "stream",
     "text": [
      "1.000000 0.000000       0.000000 1.000000\n",
      "1.000000 0.000000       0.000000 1.000000\n",
      "1.000000 0.000000       0.000000 1.000000\n",
      "1.000000 0.125000       0.000000 0.875000\n",
      "1.000000 0.000000       0.000000 1.000000\n",
      "0.968750 0.031250       0.031250 0.968750\n",
      "0.968750 0.015625       0.031250 0.984375\n",
      "0.992188 0.031250       0.007812 0.968750\n",
      "0.988281 0.050781       0.011719 0.949219\n",
      "0.980469 0.039062       0.019531 0.960938\n",
      "0.988281 0.040039       0.011719 0.959961\n",
      "0.989258 0.027832       0.010742 0.972168\n",
      "0.982422 0.059326       0.017578 0.940674\n",
      "0.980103 0.055054       0.019897 0.944946\n"
     ]
    }
   ],
   "source": [
    "def MatlabStr(array):\n",
    "    return  \"       \".join(\" \".join(\"%f\" % float(val) for val in line) for line in array)\n",
    "\n",
    "for j in A:\n",
    "    print(MatlabStr(j))"
   ]
  },
  {
   "cell_type": "code",
   "execution_count": 15,
   "metadata": {},
   "outputs": [
    {
     "name": "stdout",
     "output_type": "stream",
     "text": [
      "\f",
      "\n"
     ]
    }
   ],
   "source": [
    "clear"
   ]
  },
  {
   "cell_type": "code",
   "execution_count": null,
   "metadata": {},
   "outputs": [],
   "source": [
    "1.000000 0.000000 % N=1 shot \n",
    "0.000000 1.000000\n",
    "\n",
    "1.000000 0.000000 % N=2 shots \n",
    "0.000000 1.000000\n",
    "\n",
    "1.000000 0.000000 % N=4 shots \n",
    "0.000000 1.000000\n",
    "\n",
    "1.000000 0.125000 % N=8 shots \n",
    "0.000000 0.875000\n",
    "\n",
    "1.000000 0.000000 % N=16 shots \n",
    "0.000000 1.000000\n",
    "\n",
    "0.968750 0.031250 % N=32 shots\n",
    "0.031250 0.968750\n",
    "\n",
    "0.968750 0.015625 % N=64 shots \n",
    "0.031250 0.984375\n",
    "\n",
    "0.992188 0.031250 % N=128 shots \n",
    "0.007812 0.968750\n",
    "\n",
    "0.988281 0.050781 % N=256 shots \n",
    "0.011719 0.949219\n",
    "\n",
    "0.980469 0.039062 % N=512 shots \n",
    "0.019531 0.960938\n",
    "\n",
    "0.988281 0.040039 % N=1024 shots \n",
    "0.011719 0.959961\n",
    "\n",
    "0.989258 0.027832 % N=2048 shots \n",
    "0.010742 0.972168\n",
    "\n",
    "0.982422 0.059326 % N=4096 shots \n",
    "0.017578 0.940674\n",
    "\n",
    "0.980103 0.055054 % N=8192 shots \n",
    "0.019897 0.944946"
   ]
  },
  {
   "cell_type": "code",
   "execution_count": null,
   "metadata": {},
   "outputs": [],
   "source": []
  },
  {
   "cell_type": "code",
   "execution_count": null,
   "metadata": {},
   "outputs": [],
   "source": []
  },
  {
   "cell_type": "code",
   "execution_count": null,
   "metadata": {},
   "outputs": [],
   "source": []
  },
  {
   "cell_type": "code",
   "execution_count": 6,
   "metadata": {},
   "outputs": [],
   "source": []
  },
  {
   "cell_type": "code",
   "execution_count": 14,
   "metadata": {},
   "outputs": [
    {
     "name": "stdout",
     "output_type": "stream",
     "text": [
      "\f",
      "\n"
     ]
    }
   ],
   "source": [
    "clear"
   ]
  },
  {
   "cell_type": "code",
   "execution_count": null,
   "metadata": {},
   "outputs": [],
   "source": [
    "1.000000 0.000000 % N=1 shot\n",
    "0.000000 1.000000\n",
    "\n",
    "1.000000 0.000000 % N=2 shot\n",
    "0.000000 1.000000\n",
    "\n",
    "1.000000 0.000000 % N=4 shot\n",
    "0.000000 1.000000\n",
    "\n",
    "1.000000 0.000000 % N=8 shot\n",
    "0.000000 1.000000\n",
    "\n",
    "1.000000 0.000000 % N=16 shot\n",
    "0.000000 1.000000\n",
    "\n",
    "1.000000 0.000000 % N=32 shot\n",
    "0.000000 1.000000\n",
    "\n",
    "1.000000 0.031250 % N=64 shot\n",
    "0.000000 0.968750\n",
    "\n",
    "1.000000 0.046875 % N=128 shot\n",
    "0.000000 0.953125\n",
    "\n",
    "1.000000 0.042969 % N=256 shot\n",
    "0.000000 0.957031\n",
    "\n",
    "1.000000 0.046875 % N=512 shot\n",
    "0.000000 0.953125\n",
    "\n",
    "1.000000 0.033203 % N=1024 shot\n",
    "0.000000 0.966797\n",
    "\n",
    "1.000000 0.038574 % N=2048 shot\n",
    "0.000000 0.961426\n",
    "\n",
    "1.000000 0.059814 % N=4096 shot\n",
    "0.000000 0.940186\n",
    "\n",
    "1.000000 0.046875 % N=8192 shot\n",
    "0.000000 0.953125"
   ]
  },
  {
   "cell_type": "raw",
   "metadata": {},
   "source": [
    "clear"
   ]
  },
  {
   "cell_type": "code",
   "execution_count": 18,
   "metadata": {},
   "outputs": [
    {
     "name": "stdout",
     "output_type": "stream",
     "text": [
      "1.000000 0.000000       0.000000 1.000000\n",
      "% N=1 shot\n",
      "1.000000 0.000000       0.000000 1.000000\n",
      "% N=2 shots\n",
      "1.000000 0.000000       0.000000 1.000000\n",
      "% N=4 shots\n",
      "1.000000 0.000000       0.000000 1.000000\n",
      "% N=8 shots\n",
      "1.000000 0.000000       0.000000 1.000000\n",
      "% N=16 shots\n",
      "1.000000 0.000000       0.000000 1.000000\n",
      "% N=32 shots\n",
      "1.000000 0.031250       0.000000 0.968750\n",
      "% N=64 shots\n",
      "1.000000 0.046875       0.000000 0.953125\n",
      "% N=128 shots\n",
      "1.000000 0.042969       0.000000 0.957031\n",
      "% N=256 shots\n",
      "1.000000 0.046875       0.000000 0.953125\n",
      "% N=512 shots\n",
      "1.000000 0.033203       0.000000 0.966797\n",
      "% N=1024 shots\n",
      "1.000000 0.038574       0.000000 0.961426\n",
      "% N=2048 shots\n",
      "1.000000 0.059814       0.000000 0.940186\n",
      "% N=4096 shots\n",
      "1.000000 0.046875       0.000000 0.953125\n",
      "% N=8192 shots\n"
     ]
    }
   ],
   "source": [
    "\n",
    "def MatlabStr(array):\n",
    "    return  \"       \".join(\" \".join(\"%f\" % float(val) for val in line) for line in array)\n",
    "w=0\n",
    "    \n",
    "for j in A:\n",
    "    print(MatlabStr(j))\n",
    "    if w==0:\n",
    "        print(\"% N=\"+str(2**w)+\" shot\")\n",
    "    else:\n",
    "        print(\"% N=\"+str(2**w)+\" shots\")\n",
    "    w=w+1\n",
    "\n",
    "\n"
   ]
  },
  {
   "cell_type": "code",
   "execution_count": null,
   "metadata": {},
   "outputs": [],
   "source": []
  },
  {
   "cell_type": "code",
   "execution_count": 18,
   "metadata": {},
   "outputs": [],
   "source": [
    "A=[[[1., 0.],\n",
    "       [0., 1.]], [[1., 0.],\n",
    "       [0., 1.]], [[1., 0.],\n",
    "       [0., 1.]], [[1.   , 0.125],\n",
    "       [0.   , 0.875]], [[1., 0.],\n",
    "       [0., 1.]], [[0.96875, 0.03125],\n",
    "       [0.03125, 0.96875]], [[0.96875 , 0.015625],\n",
    "       [0.03125 , 0.984375]], [[0.9921875, 0.03125  ],\n",
    "       [0.0078125, 0.96875  ]], [[0.98828125, 0.05078125],\n",
    "       [0.01171875, 0.94921875]],[[0.98046875, 0.0390625 ],\n",
    "       [0.01953125, 0.9609375 ]], [[0.98828125, 0.04003906],\n",
    "       [0.01171875, 0.95996094]], [[0.98925781, 0.02783203],\n",
    "       [0.01074219, 0.97216797]], [[0.98242188, 0.05932617],\n",
    "       [0.01757812, 0.94067383]], [[0.98010254, 0.05505371],\n",
    "       [0.01989746, 0.94494629]]]"
   ]
  },
  {
   "cell_type": "code",
   "execution_count": 24,
   "metadata": {},
   "outputs": [],
   "source": [
    "def stand7(w):\n",
    "    if len(str(w))<9:\n",
    "        return str(w)+(9-len(str(w)))*\"0\"  \n",
    "    else:\n",
    "        return str(w)[:9] \n",
    "\n",
    "def G7(A):\n",
    "    logN=0\n",
    "    for Matr in A:\n",
    "        w=0\n",
    "        for j in Matr:\n",
    "            prnt=''\n",
    "            for k in j:\n",
    "                prnt=prnt+stand7(k)+\" \"\n",
    "            if w==0:\n",
    "                if logN==0:\n",
    "                    prnt=prnt+\"% N=\"+str(2**logN)+\" shot\"\n",
    "                else:\n",
    "                    prnt=prnt+\"% N=\"+str(2**logN)+\" shots\"\n",
    "            w=w+1\n",
    "            print(prnt)\n",
    "        logN=logN+1\n",
    "        print('')"
   ]
  },
  {
   "cell_type": "code",
   "execution_count": 25,
   "metadata": {},
   "outputs": [
    {
     "name": "stdout",
     "output_type": "stream",
     "text": [
      "1.0000000 0.0000000 % N=1 shot\n",
      "0.0000000 1.0000000 \n",
      "\n",
      "1.0000000 0.0000000 % N=2 shots\n",
      "0.0000000 1.0000000 \n",
      "\n",
      "1.0000000 0.0000000 % N=4 shots\n",
      "0.0000000 1.0000000 \n",
      "\n",
      "1.0000000 0.0000000 % N=8 shots\n",
      "0.0000000 1.0000000 \n",
      "\n",
      "1.0000000 0.0000000 % N=16 shots\n",
      "0.0000000 1.0000000 \n",
      "\n",
      "1.0000000 0.0000000 % N=32 shots\n",
      "0.0000000 1.0000000 \n",
      "\n",
      "1.0000000 0.0312500 % N=64 shots\n",
      "0.0000000 0.9687500 \n",
      "\n",
      "1.0000000 0.0468750 % N=128 shots\n",
      "0.0000000 0.9531250 \n",
      "\n",
      "1.0000000 0.0429687 % N=256 shots\n",
      "0.0000000 0.9570312 \n",
      "\n",
      "1.0000000 0.0468750 % N=512 shots\n",
      "0.0000000 0.9531250 \n",
      "\n",
      "1.0000000 0.0332031 % N=1024 shots\n",
      "0.0000000 0.9667968 \n",
      "\n",
      "1.0000000 0.0385742 % N=2048 shots\n",
      "0.0000000 0.9614257 \n",
      "\n",
      "1.0000000 0.0598144 % N=4096 shots\n",
      "0.0000000 0.9401855 \n",
      "\n",
      "1.0000000 0.0468750 % N=8192 shots\n",
      "0.0000000 0.9531250 \n",
      "\n"
     ]
    }
   ],
   "source": [
    "G7(A)"
   ]
  },
  {
   "cell_type": "code",
   "execution_count": null,
   "metadata": {},
   "outputs": [],
   "source": []
  },
  {
   "cell_type": "code",
   "execution_count": 27,
   "metadata": {},
   "outputs": [],
   "source": [
    "A=[[[1., 0.],\n",
    "       [0., 1.]], [[1., 0.],\n",
    "       [0., 1.]], [[1., 0.],\n",
    "       [0., 1.]], [[1.   , 0.125],\n",
    "       [0.   , 0.875]], [[1., 0.],\n",
    "       [0., 1.]], [[0.96875, 0.03125],\n",
    "       [0.03125, 0.96875]], [[0.96875 , 0.015625],\n",
    "       [0.03125 , 0.984375]], [[0.9921875, 0.03125  ],\n",
    "       [0.0078125, 0.96875  ]], [[0.98828125, 0.05078125],\n",
    "       [0.01171875, 0.94921875]], [[0.98046875, 0.0390625 ],\n",
    "       [0.01953125, 0.9609375 ]], [[0.98828125, 0.04003906],\n",
    "       [0.01171875, 0.95996094]], [[0.98925781, 0.02783203],\n",
    "       [0.01074219, 0.97216797]], [[0.98242188, 0.05932617],\n",
    "       [0.01757812, 0.94067383]], [[0.98010254, 0.05505371],\n",
    "       [0.01989746, 0.94494629]]]"
   ]
  },
  {
   "cell_type": "code",
   "execution_count": 28,
   "metadata": {},
   "outputs": [
    {
     "name": "stdout",
     "output_type": "stream",
     "text": [
      "1.0000000 0.0000000 % N=1 shot\n",
      "0.0000000 1.0000000 \n",
      "\n",
      "1.0000000 0.0000000 % N=2 shots\n",
      "0.0000000 1.0000000 \n",
      "\n",
      "1.0000000 0.0000000 % N=4 shots\n",
      "0.0000000 1.0000000 \n",
      "\n",
      "1.0000000 0.1250000 % N=8 shots\n",
      "0.0000000 0.8750000 \n",
      "\n",
      "1.0000000 0.0000000 % N=16 shots\n",
      "0.0000000 1.0000000 \n",
      "\n",
      "0.9687500 0.0312500 % N=32 shots\n",
      "0.0312500 0.9687500 \n",
      "\n",
      "0.9687500 0.0156250 % N=64 shots\n",
      "0.0312500 0.9843750 \n",
      "\n",
      "0.9921875 0.0312500 % N=128 shots\n",
      "0.0078125 0.9687500 \n",
      "\n",
      "0.9882812 0.0507812 % N=256 shots\n",
      "0.0117187 0.9492187 \n",
      "\n",
      "0.9804687 0.0390625 % N=512 shots\n",
      "0.0195312 0.9609375 \n",
      "\n",
      "0.9882812 0.0400390 % N=1024 shots\n",
      "0.0117187 0.9599609 \n",
      "\n",
      "0.9892578 0.0278320 % N=2048 shots\n",
      "0.0107421 0.9721679 \n",
      "\n",
      "0.9824218 0.0593261 % N=4096 shots\n",
      "0.0175781 0.9406738 \n",
      "\n",
      "0.9801025 0.0550537 % N=8192 shots\n",
      "0.0198974 0.9449462 \n",
      "\n"
     ]
    }
   ],
   "source": [
    "G7(A)"
   ]
  },
  {
   "cell_type": "code",
   "execution_count": null,
   "metadata": {},
   "outputs": [],
   "source": []
  },
  {
   "cell_type": "code",
   "execution_count": null,
   "metadata": {},
   "outputs": [],
   "source": []
  }
 ],
 "metadata": {
  "kernelspec": {
   "display_name": "Python 3",
   "language": "python",
   "name": "python3"
  },
  "language_info": {
   "codemirror_mode": {
    "name": "ipython",
    "version": 3
   },
   "file_extension": ".py",
   "mimetype": "text/x-python",
   "name": "python",
   "nbconvert_exporter": "python",
   "pygments_lexer": "ipython3",
   "version": "3.7.4"
  }
 },
 "nbformat": 4,
 "nbformat_minor": 2
}
