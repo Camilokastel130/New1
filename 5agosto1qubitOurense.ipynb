{
 "cells": [
  {
   "cell_type": "code",
   "execution_count": 1,
   "metadata": {},
   "outputs": [
    {
     "data": {
      "text/plain": [
       "[<IBMQSimulator('ibmq_qasm_simulator') from IBMQ(hub='ibm-q', group='open', project='main')>,\n",
       " <IBMQBackend('ibmqx2') from IBMQ(hub='ibm-q', group='open', project='main')>,\n",
       " <IBMQBackend('ibmq_16_melbourne') from IBMQ(hub='ibm-q', group='open', project='main')>,\n",
       " <IBMQBackend('ibmq_vigo') from IBMQ(hub='ibm-q', group='open', project='main')>,\n",
       " <IBMQBackend('ibmq_ourense') from IBMQ(hub='ibm-q', group='open', project='main')>,\n",
       " <IBMQBackend('ibmq_valencia') from IBMQ(hub='ibm-q', group='open', project='main')>,\n",
       " <IBMQBackend('ibmq_london') from IBMQ(hub='ibm-q', group='open', project='main')>,\n",
       " <IBMQBackend('ibmq_burlington') from IBMQ(hub='ibm-q', group='open', project='main')>,\n",
       " <IBMQBackend('ibmq_essex') from IBMQ(hub='ibm-q', group='open', project='main')>,\n",
       " <IBMQBackend('ibmq_armonk') from IBMQ(hub='ibm-q', group='open', project='main')>]"
      ]
     },
     "execution_count": 1,
     "metadata": {},
     "output_type": "execute_result"
    }
   ],
   "source": [
    "# initialization\n",
    "import matplotlib.pyplot as plt\n",
    "%matplotlib inline\n",
    "import numpy as np\n",
    "\n",
    "# importing Qiskit\n",
    "from qiskit import IBMQ, BasicAer\n",
    "from qiskit.providers.ibmq import least_busy\n",
    "from qiskit import QuantumCircuit, ClassicalRegister, QuantumRegister, execute\n",
    "\n",
    "# import basic plot tools\n",
    "from qiskit.tools.visualization import plot_histogram\n",
    "\n",
    "\n",
    "IBMQ.save_account('ad3965ae3913db06521d71bba9e1208319b91a9e7ab869744cd624d63a8e898cfef58312e0819dcc2a1a2ffa59a867a4fdf5f6e225c6f2c80f28e03d3bb1a61a',overwrite=True)\n",
    "\n",
    "#IBMQ.save_account('ebadbf7da56bb61d559a2f5fecd3d1d6e60d13ce5dd374f801829f3c92cd864b124e1ad5c1fd3faa6a14a5365f9d326947df8db138604049b06192da43d6a49b',overwrite=True)\n",
    "\n",
    "#IBMQ.save_account('676f27667e5b533a92387a7716d67080d9648d217e96873f767e3834c2861bd4590a7ffbff31002cbce3f215642436c9a2e3a731e24b797ed5acd92765a463c2',overwrite=True)\n",
    "#IBMQ.save_account('ebadbf7da56bb61d559a2f5fecd3d1d6e60d13ce5dd374f801829f3c92cd864b124e1ad5c1fd3faa6a14a5365f9d326947df8db138604049b06192da43d6a49b',overwrite=True)\n",
    "\n",
    "\n",
    "\n",
    "IBMQ.load_account()\n",
    "provider = IBMQ.get_provider(hub='ibm-q')\n",
    "provider.backends() "
   ]
  },
  {
   "cell_type": "code",
   "execution_count": 2,
   "metadata": {},
   "outputs": [],
   "source": [
    "from qiskit import *"
   ]
  },
  {
   "cell_type": "code",
   "execution_count": 3,
   "metadata": {},
   "outputs": [],
   "source": [
    "from qiskit.ignis.mitigation.measurement import (complete_meas_cal,CompleteMeasFitter)"
   ]
  },
  {
   "cell_type": "code",
   "execution_count": 4,
   "metadata": {},
   "outputs": [],
   "source": [
    "import sys\n",
    "import numpy\n",
    "numpy.set_printoptions(threshold=sys.maxsize)"
   ]
  },
  {
   "cell_type": "code",
   "execution_count": 5,
   "metadata": {},
   "outputs": [],
   "source": [
    "from qiskit.ignis.mitigation.measurement import (complete_meas_cal,CompleteMeasFitter)\n",
    "\n",
    "\n",
    "n=1\n",
    "qr = QuantumRegister(n)\n",
    "cr = ClassicalRegister(n)\n",
    "    \n",
    "circuit = QuantumCircuit(qr, cr)\n",
    "barriers = True\n",
    "\n",
    "\n",
    "            # Apply Hadamard gate\n",
    "circuit.h(qr)    \n",
    "    \n",
    "\n",
    "            # Apply Z-gate \n",
    "circuit.z(qr)  \n",
    "\n",
    "            # Apply barrier \n",
    "\n",
    "\n",
    "            # Apply Hadamard gate\n",
    "circuit.h(qr) \n",
    "\n",
    "            # Measure the register\n",
    "    \n",
    "for i in range(n):\n",
    "    circuit.measure(qr[i], cr[i])"
   ]
  },
  {
   "cell_type": "code",
   "execution_count": 6,
   "metadata": {},
   "outputs": [
    {
     "data": {
      "image/png": "[encoded data removed]",
      "text/plain": [
       "<Figure size 364.812x144.48 with 1 Axes>"
      ]
     },
     "execution_count": 6,
     "metadata": {},
     "output_type": "execute_result"
    }
   ],
   "source": [
    "circuit.draw('mpl')"
   ]
  },
  {
   "cell_type": "code",
   "execution_count": 7,
   "metadata": {},
   "outputs": [],
   "source": [
    "provider = IBMQ.get_provider(hub='ibm-q')\n",
    "#device = provider.get_backend('ibmq_vigo')"
   ]
  },
  {
   "cell_type": "code",
   "execution_count": 8,
   "metadata": {},
   "outputs": [],
   "source": [
    "FidelityFull1=[]\n",
    "FidelityPartial1=[]\n",
    "FidelityNoisy1=[]\n",
    "\n",
    "JobIDFull1=[]\n",
    "JobIDPartial1=[]\n",
    "JobID_DJA1=[]\n",
    "\n",
    "MatrixFull1=[]\n",
    "MatrixPartial1=[]"
   ]
  },
  {
   "cell_type": "code",
   "execution_count": 9,
   "metadata": {},
   "outputs": [],
   "source": [
    "from qiskit.ignis.mitigation.measurement import (complete_meas_cal, CompleteMeasFitter)\n",
    "cal_circuits, state_labels = complete_meas_cal(qr=circuit.qregs[0], \n",
    "                                               circlabel='measurement_calibration')\n",
    "device = provider.get_backend('ibmq_ourense')\n",
    "bit='1'\n",
    "\n",
    "for j in range (0,14):\n",
    "    \n",
    "    Trials=2**j  \n",
    "    #Trials=8192\n",
    "    \n",
    "    job = execute(circuit, backend=device, shots=Trials)\n",
    "    device_result = job.result()\n",
    "    a=device_result.get_counts(circuit).get(bit)\n",
    "    \n",
    "    \n",
    "    cal_job = execute(cal_circuits,\n",
    "             backend=device,\n",
    "             shots=Trials,\n",
    "             optimization_level=0)\n",
    "    #print(cal_job.job_id())\n",
    "\n",
    "    cal_results = cal_job.result()\n",
    "\n",
    "    index=2**n-1\n",
    "    cal_job_partial = execute(cal_circuits[index],\n",
    "             backend=device,\n",
    "             shots=Trials,\n",
    "             optimization_level=0)\n",
    "    cal_results_partial = cal_job_partial.result()\n",
    "    #JobIDPartial.append(cal_job_partial.job_id())\n",
    "   \n",
    "    meas_fitter = CompleteMeasFitter(cal_results, state_labels)\n",
    "    meas_fitter_partial = CompleteMeasFitter(cal_results_partial, state_labels)\n",
    "    for k in range (2**n-1):\n",
    "        meas_fitter_partial.cal_matrix[k,k]=1\n",
    "        \n",
    "    \n",
    "    meas_filter_partial =meas_fitter_partial.filter\n",
    "    mitigated_result_partial = meas_filter_partial.apply(device_result)\n",
    "    mitigated_counts_partial = mitigated_result_partial.get_counts(circuit)\n",
    "    \n",
    "    meas_filter =meas_fitter.filter\n",
    "    mitigated_result = meas_filter.apply(device_result)\n",
    "    mitigated_counts = mitigated_result.get_counts(circuit)\n",
    "    \n",
    "    FidelityNoisy1.append(device_result.get_counts(circuit).get(bit)/Trials)\n",
    "    FidelityPartial1.append(mitigated_counts_partial.get(bit)/Trials)\n",
    "    FidelityFull1.append(mitigated_counts.get(bit)/Trials)\n",
    "    \n",
    "    JobIDFull1.append(\"'\"+str(cal_job.job_id())+\"'\")\n",
    "    JobIDPartial1.append(\"'\"+str(cal_job_partial.job_id())+\"'\")\n",
    "    JobID_DJA1.append(\"'\"+str(job.job_id())+\"'\")\n",
    "    \n",
    "    MatrixFull1.append(meas_fitter.cal_matrix)\n",
    "    MatrixPartial1.append(meas_fitter_partial.cal_matrix)"
   ]
  },
  {
   "cell_type": "code",
   "execution_count": null,
   "metadata": {},
   "outputs": [],
   "source": []
  },
  {
   "cell_type": "code",
   "execution_count": 10,
   "metadata": {},
   "outputs": [],
   "source": [
    "def MatlabStr(array):\n",
    "    return '[' + \"; \".join(\" \".join(\"%6g\" % val for val in line) for line in array) + ']'"
   ]
  },
  {
   "cell_type": "code",
   "execution_count": null,
   "metadata": {},
   "outputs": [],
   "source": []
  },
  {
   "cell_type": "code",
   "execution_count": 11,
   "metadata": {},
   "outputs": [
    {
     "name": "stdout",
     "output_type": "stream",
     "text": [
      "[1.0, 1.0, 0.7499999999308178, 0.9999999999999977, 1.0, 0.966666666733154, 0.9682539664720468, 0.9759999990271857, 0.9999999999984521, 0.9817813765053195, 0.9969727547910845, 1.0, 0.9959047863238851, 0.9939109473969628]\n",
      "[1.0, 1.0, 0.7500000003306133, 0.999999999999997, 1.0, 0.9999999999999866, 0.9999999999999614, 0.9919354842418803, 0.9999999999979363, 0.9801587301062645, 0.9989999999992394, 0.9994984954863618, 1.0, 0.9941080611552809]\n",
      "[1.0, 1.0, 0.75, 1.0, 1.0, 0.9375, 0.96875, 0.9609375, 0.984375, 0.96484375, 0.9755859375, 0.97314453125, 0.96728515625, 0.968017578125]\n",
      "[\"'5f2b406c0ca1ba0011b3d196'\", \"'5f2b420a0ca1ba0011b3d1aa'\", \"'5f2b43b4c79cc2001a3ac658'\", \"'5f2b4552fa2efe00139611d9'\", \"'5f2b473fc79cc2001a3ac676'\", \"'5f2b485c159e2600136cbbc6'\", \"'5f2b4a3d0ca1ba0011b3d1fa'\", \"'5f2b4bb2c79cc2001a3ac6ab'\", \"'5f2b4d6cfa2efe0013961227'\", \"'5f2b4ee20927b800133f96c5'\", \"'5f2b50c2c79cc2001a3ac6e0'\", \"'5f2b52764ae7da001b374163'\", \"'5f2b5301cbff540019b42cc3'\", \"'5f2b53960ca1ba0011b3d262'\"]\n",
      "[\"'5f2b40f2cbff540019b42c0e'\", \"'5f2b429ccbff540019b42c20'\", \"'5f2b443acbff540019b42c2d'\", \"'5f2b45e5f0563e001a6cba3f'\", \"'5f2b47c65b470a00125d44ba'\", \"'5f2b48ef4ae7da001b374102'\", \"'5f2b4b065b470a00125d44d0'\", \"'5f2b4c7b4ae7da001b374122'\", \"'5f2b4d810927b800133f96b7'\", \"'5f2b4f70cbff540019b42ca7'\", \"'5f2b51570927b800133f96e6'\", \"'5f2b52aa4ae7da001b374166'\", \"'5f2b5333c79cc2001a3ac6f8'\", \"'5f2b53d4fa2efe0013961271'\"]\n",
      "[\"'5f2b402cc79cc2001a3ac627'\", \"'5f2b4185c79cc2001a3ac63a'\", \"'5f2b43229b21aa001a1ca7fd'\", \"'5f2b44cd159e2600136cbba2'\", \"'5f2b46ad159e2600136cbbb2'\", \"'5f2b484b9b21aa001a1ca82b'\", \"'5f2b49b8c79cc2001a3ac697'\", \"'5f2b4b2c9b21aa001a1ca83d'\", \"'5f2b4c8d0927b800133f96ad'\", \"'5f2b4e57cbff540019b42c96'\", \"'5f2b4ff64ae7da001b374148'\", \"'5f2b51de0927b800133f96ed'\", \"'5f2b52d6f0563e001a6cbac1'\", \"'5f2b535efa2efe001396126d'\"]\n",
      "[array([[1., 0.],\n",
      "       [0., 1.]]), array([[1., 0.],\n",
      "       [0., 1.]]), array([[1., 0.],\n",
      "       [0., 1.]]), array([[1., 0.],\n",
      "       [0., 1.]]), array([[1., 0.],\n",
      "       [0., 1.]]), array([[0.96875, 0.03125],\n",
      "       [0.03125, 0.96875]]), array([[0.984375, 0.      ],\n",
      "       [0.015625, 1.      ]]), array([[0.9921875, 0.015625 ],\n",
      "       [0.0078125, 0.984375 ]]), array([[0.98828125, 0.015625  ],\n",
      "       [0.01171875, 0.984375  ]]), array([[0.98242188, 0.01757812],\n",
      "       [0.01757812, 0.98242188]]), array([[0.98925781, 0.02148438],\n",
      "       [0.01074219, 0.97851562]]), array([[0.99023438, 0.02978516],\n",
      "       [0.00976562, 0.97021484]]), array([[0.98266602, 0.02880859],\n",
      "       [0.01733398, 0.97119141]]), array([[0.98840332, 0.02612305],\n",
      "       [0.01159668, 0.97387695]])]\n",
      "[array([[1., 0.],\n",
      "       [0., 1.]]), array([[1., 0.],\n",
      "       [0., 1.]]), array([[1., 0.],\n",
      "       [0., 1.]]), array([[1., 0.],\n",
      "       [0., 1.]]), array([[1.    , 0.0625],\n",
      "       [0.    , 0.9375]]), array([[1.    , 0.0625],\n",
      "       [0.    , 0.9375]]), array([[1.     , 0.03125],\n",
      "       [0.     , 0.96875]]), array([[1.     , 0.03125],\n",
      "       [0.     , 0.96875]]), array([[1.        , 0.02734375],\n",
      "       [0.        , 0.97265625]]), array([[1.      , 0.015625],\n",
      "       [0.      , 0.984375]]), array([[1.       , 0.0234375],\n",
      "       [0.       , 0.9765625]]), array([[1.        , 0.02636719],\n",
      "       [0.        , 0.97363281]]), array([[1.        , 0.03344727],\n",
      "       [0.        , 0.96655273]]), array([[1.        , 0.02624512],\n",
      "       [0.        , 0.97375488]])]\n"
     ]
    }
   ],
   "source": [
    "print(FidelityFull1)\n",
    "print(FidelityPartial1)\n",
    "print(FidelityNoisy1)\n",
    "\n",
    "print(JobIDFull1)\n",
    "print(JobIDPartial1)\n",
    "print(JobID_DJA1)\n",
    "\n",
    "print(MatrixFull1)\n",
    "print(MatrixPartial1)"
   ]
  },
  {
   "cell_type": "markdown",
   "metadata": {},
   "source": [
    "# Full"
   ]
  },
  {
   "cell_type": "code",
   "execution_count": 14,
   "metadata": {},
   "outputs": [
    {
     "name": "stdout",
     "output_type": "stream",
     "text": [
      "[     1      0;      0      1]\n",
      "[     1      0;      0      1]\n",
      "[     1      0;      0      1]\n",
      "[     1      0;      0      1]\n",
      "[     1      0;      0      1]\n",
      "[0.96875 0.03125; 0.03125 0.96875]\n",
      "[0.984375      0; 0.015625      1]\n",
      "[0.992188 0.015625; 0.0078125 0.984375]\n",
      "[0.988281 0.015625; 0.0117188 0.984375]\n",
      "[0.982422 0.0175781; 0.0175781 0.982422]\n",
      "[0.989258 0.0214844; 0.0107422 0.978516]\n",
      "[0.990234 0.0297852; 0.00976562 0.970215]\n",
      "[0.982666 0.0288086; 0.017334 0.971191]\n",
      "[0.988403 0.026123; 0.0115967 0.973877]\n"
     ]
    }
   ],
   "source": [
    "for j in MatrixFull1:\n",
    "    print(MatlabStr(j))"
   ]
  },
  {
   "cell_type": "markdown",
   "metadata": {},
   "source": [
    "# Partial"
   ]
  },
  {
   "cell_type": "code",
   "execution_count": 15,
   "metadata": {},
   "outputs": [
    {
     "name": "stdout",
     "output_type": "stream",
     "text": [
      "[     1      0;      0      1]\n",
      "[     1      0;      0      1]\n",
      "[     1      0;      0      1]\n",
      "[     1      0;      0      1]\n",
      "[     1 0.0625;      0 0.9375]\n",
      "[     1 0.0625;      0 0.9375]\n",
      "[     1 0.03125;      0 0.96875]\n",
      "[     1 0.03125;      0 0.96875]\n",
      "[     1 0.0273438;      0 0.972656]\n",
      "[     1 0.015625;      0 0.984375]\n",
      "[     1 0.0234375;      0 0.976562]\n",
      "[     1 0.0263672;      0 0.973633]\n",
      "[     1 0.0334473;      0 0.966553]\n",
      "[     1 0.0262451;      0 0.973755]\n"
     ]
    }
   ],
   "source": [
    "for j in MatrixPartial1:\n",
    "    print(MatlabStr(j))"
   ]
  },
  {
   "cell_type": "code",
   "execution_count": null,
   "metadata": {},
   "outputs": [],
   "source": []
  },
  {
   "cell_type": "code",
   "execution_count": null,
   "metadata": {},
   "outputs": [],
   "source": [
    "\n",
    "\n",
    "\n",
    "\n"
   ]
  },
  {
   "cell_type": "code",
   "execution_count": null,
   "metadata": {},
   "outputs": [],
   "source": []
  },
  {
   "cell_type": "code",
   "execution_count": 1,
   "metadata": {},
   "outputs": [],
   "source": [
    "A=[[[1., 0.],\n",
    "       [0., 1.]], [[1., 0.],\n",
    "       [0., 1.]], [[1., 0.],\n",
    "       [0., 1.]], [[1., 0.],\n",
    "       [0., 1.]], [[1., 0.],\n",
    "       [0., 1.]], [[0.96875, 0.03125],\n",
    "       [0.03125, 0.96875]], [[0.984375, 0.      ],\n",
    "       [0.015625, 1.      ]], [[0.9921875, 0.015625 ],\n",
    "       [0.0078125, 0.984375 ]], [[0.98828125, 0.015625  ],\n",
    "       [0.01171875, 0.984375  ]], [[0.98242188, 0.01757812],\n",
    "       [0.01757812, 0.98242188]], [[0.98925781, 0.02148438],\n",
    "       [0.01074219, 0.97851562]], [[0.99023438, 0.02978516],\n",
    "       [0.00976562, 0.97021484]], [[0.98266602, 0.02880859],\n",
    "       [0.01733398, 0.97119141]], [[0.98840332, 0.02612305],\n",
    "       [0.01159668, 0.97387695]]]"
   ]
  },
  {
   "cell_type": "code",
   "execution_count": null,
   "metadata": {},
   "outputs": [],
   "source": []
  },
  {
   "cell_type": "code",
   "execution_count": 2,
   "metadata": {},
   "outputs": [],
   "source": [
    "B=[[[1., 0.],\n",
    "       [0., 1.]], [[1., 0.],\n",
    "       [0., 1.]], [[1., 0.],\n",
    "       [0., 1.]], [[1., 0.],\n",
    "       [0., 1.]], [[1.    , 0.0625],\n",
    "       [0.    , 0.9375]], [[1.    , 0.0625],\n",
    "       [0.    , 0.9375]], [[1.     , 0.03125],\n",
    "       [0.     , 0.96875]], [[1.     , 0.03125],\n",
    "       [0.     , 0.96875]], [[1.        , 0.02734375],\n",
    "       [0.        , 0.97265625]], [[1.      , 0.015625],\n",
    "       [0.      , 0.984375]], [[1.       , 0.0234375],\n",
    "       [0.       , 0.9765625]], [[1.        , 0.02636719],\n",
    "       [0.        , 0.97363281]], [[1.        , 0.03344727],\n",
    "       [0.        , 0.96655273]], [[1.        , 0.02624512],\n",
    "       [0.        , 0.97375488]]]"
   ]
  },
  {
   "cell_type": "code",
   "execution_count": 7,
   "metadata": {},
   "outputs": [
    {
     "name": "stdout",
     "output_type": "stream",
     "text": [
      " % N=1 shot\n",
      "1.000000 0.000000       0.000000 1.000000\n",
      " % N=2 shots\n",
      "1.000000 0.000000       0.000000 1.000000\n",
      " % N=4 shots\n",
      "1.000000 0.000000       0.000000 1.000000\n",
      " % N=8 shots\n",
      "1.000000 0.000000       0.000000 1.000000\n",
      " % N=16 shots\n",
      "1.000000 0.000000       0.000000 1.000000\n",
      " % N=32 shots\n",
      "0.968750 0.031250       0.031250 0.968750\n",
      " % N=64 shots\n",
      "0.984375 0.000000       0.015625 1.000000\n",
      " % N=128 shots\n",
      "0.992188 0.015625       0.007812 0.984375\n",
      " % N=256 shots\n",
      "0.988281 0.015625       0.011719 0.984375\n",
      " % N=512 shots\n",
      "0.982422 0.017578       0.017578 0.982422\n",
      " % N=1024 shots\n",
      "0.989258 0.021484       0.010742 0.978516\n",
      " % N=2048 shots\n",
      "0.990234 0.029785       0.009766 0.970215\n",
      " % N=4096 shots\n",
      "0.982666 0.028809       0.017334 0.971191\n",
      " % N=8192 shots\n",
      "0.988403 0.026123       0.011597 0.973877\n"
     ]
    }
   ],
   "source": [
    "def MatlabStr(array):\n",
    "    return  \"       \".join(\" \".join(\"%f\" % float(val) for val in line) for line in array)\n",
    "w=0\n",
    "    \n",
    "for j in A:\n",
    "    \n",
    "    if w==0:\n",
    "        print(\" % N=\"+str(2**w)+\" shot\")\n",
    "    else:\n",
    "        print(\" % N=\"+str(2**w)+\" shots\")\n",
    "    print(MatlabStr(j))\n",
    "    w=w+1"
   ]
  },
  {
   "cell_type": "code",
   "execution_count": null,
   "metadata": {},
   "outputs": [],
   "source": []
  },
  {
   "cell_type": "code",
   "execution_count": null,
   "metadata": {},
   "outputs": [],
   "source": [
    "\n",
    "1.000000 0.000000 % N=1 shot\n",
    "0.000000 1.000000\n",
    "\n",
    "1.000000 0.000000 % N=2 shots  \n",
    "0.000000 1.000000\n",
    "\n",
    "1.000000 0.000000 % N=4 shots    \n",
    "0.000000 1.000000\n",
    "\n",
    "1.000000 0.000000 % N=8 shots\n",
    "0.000000 1.000000\n",
    "\n",
    "1.000000 0.000000 % N=16 shots \n",
    "0.000000 1.000000\n",
    "\n",
    "0.968750 0.031250 % N=32 shots\n",
    "0.031250 0.968750\n",
    "\n",
    "0.984375 0.000000 % N=64 shots\n",
    "0.015625 1.000000\n",
    "\n",
    "0.992188 0.015625 % N=128 shots\n",
    "0.007812 0.984375\n",
    "\n",
    "0.988281 0.015625 % N=256 shots \n",
    "0.011719 0.984375\n",
    "\n",
    "0.982422 0.017578 % N=512 shots\n",
    "0.017578 0.982422\n",
    "\n",
    "0.989258 0.021484 % N=1024 shots\n",
    "0.010742 0.978516\n",
    "\n",
    "0.990234 0.029785 % N=2048 shots\n",
    "0.009766 0.970215\n",
    "\n",
    "0.982666 0.028809 % N=4096 shots \n",
    "0.017334 0.971191\n",
    "\n",
    "0.988403 0.026123 % N=8192 shots\n",
    "0.011597 0.973877"
   ]
  },
  {
   "cell_type": "code",
   "execution_count": null,
   "metadata": {},
   "outputs": [],
   "source": []
  },
  {
   "cell_type": "code",
   "execution_count": 8,
   "metadata": {},
   "outputs": [
    {
     "name": "stdout",
     "output_type": "stream",
     "text": [
      " % N=1 shot\n",
      "1.000000 0.000000       0.000000 1.000000\n",
      " % N=2 shots\n",
      "1.000000 0.000000       0.000000 1.000000\n",
      " % N=4 shots\n",
      "1.000000 0.000000       0.000000 1.000000\n",
      " % N=8 shots\n",
      "1.000000 0.000000       0.000000 1.000000\n",
      " % N=16 shots\n",
      "1.000000 0.062500       0.000000 0.937500\n",
      " % N=32 shots\n",
      "1.000000 0.062500       0.000000 0.937500\n",
      " % N=64 shots\n",
      "1.000000 0.031250       0.000000 0.968750\n",
      " % N=128 shots\n",
      "1.000000 0.031250       0.000000 0.968750\n",
      " % N=256 shots\n",
      "1.000000 0.027344       0.000000 0.972656\n",
      " % N=512 shots\n",
      "1.000000 0.015625       0.000000 0.984375\n",
      " % N=1024 shots\n",
      "1.000000 0.023438       0.000000 0.976562\n",
      " % N=2048 shots\n",
      "1.000000 0.026367       0.000000 0.973633\n",
      " % N=4096 shots\n",
      "1.000000 0.033447       0.000000 0.966553\n",
      " % N=8192 shots\n",
      "1.000000 0.026245       0.000000 0.973755\n"
     ]
    }
   ],
   "source": [
    "def MatlabStr(array):\n",
    "    return  \"       \".join(\" \".join(\"%f\" % float(val) for val in line) for line in array)\n",
    "w=0\n",
    "    \n",
    "for j in B:\n",
    "    \n",
    "    if w==0:\n",
    "        print(\" % N=\"+str(2**w)+\" shot\")\n",
    "    else:\n",
    "        print(\" % N=\"+str(2**w)+\" shots\")\n",
    "    print(MatlabStr(j))\n",
    "    w=w+1"
   ]
  },
  {
   "cell_type": "code",
   "execution_count": null,
   "metadata": {},
   "outputs": [],
   "source": []
  },
  {
   "cell_type": "code",
   "execution_count": null,
   "metadata": {},
   "outputs": [],
   "source": [
    "1.000000 0.000000 % N=1 shot\n",
    "0.000000 1.000000\n",
    "\n",
    "1.000000 0.000000 % N=2 shots\n",
    "0.000000 1.000000\n",
    "\n",
    "1.000000 0.000000 % N=4 shots\n",
    "0.000000 1.000000\n",
    "\n",
    "1.000000 0.000000 % N=8 shots\n",
    "0.000000 1.000000\n",
    "\n",
    "1.000000 0.062500 % N=16 shots\n",
    "0.000000 0.937500\n",
    "\n",
    "1.000000 0.062500 % N=32 shots\n",
    "0.000000 0.937500\n",
    "\n",
    "1.000000 0.031250 % N=64 shots\n",
    "0.000000 0.968750\n",
    "\n",
    "1.000000 0.031250 % N=128 shots\n",
    "0.000000 0.968750\n",
    "\n",
    "1.000000 0.027344 % N=256 shots\n",
    "0.000000 0.972656\n",
    "\n",
    "1.000000 0.015625 % N=512 shots\n",
    "0.000000 0.984375\n",
    "\n",
    "1.000000 0.023438 % N=1024 shots\n",
    "0.000000 0.976562\n",
    "\n",
    "1.000000 0.026367 % N=2048 shots\n",
    "0.000000 0.973633\n",
    "\n",
    "1.000000 0.033447 % N=4096 shots\n",
    "0.000000 0.966553\n",
    "\n",
    "1.000000 0.026245 % N=8192 shots\n",
    "0.000000 0.973755"
   ]
  },
  {
   "cell_type": "code",
   "execution_count": 3,
   "metadata": {},
   "outputs": [],
   "source": [
    "def stand7(w):\n",
    "    if len(str(w))<9:\n",
    "        return str(w)+(9-len(str(w)))*\"0\"  \n",
    "    else:\n",
    "        return str(w)[:9] \n",
    "\n",
    "def G7(ListMatr):\n",
    "    logN=0\n",
    "    for Matr in ListMatr:\n",
    "        w=0\n",
    "        for j in Matr:\n",
    "            prnt=''\n",
    "            for k in j:\n",
    "                prnt=prnt+stand7(k)+\" \"\n",
    "            if w==0:\n",
    "                if logN==0:\n",
    "                    prnt=prnt+\"% N=\"+str(2**logN)+\" shot\"\n",
    "                else:\n",
    "                    prnt=prnt+\"% N=\"+str(2**logN)+\" shots\"\n",
    "            w=w+1\n",
    "            print(prnt)\n",
    "        logN=logN+1\n",
    "        print('')"
   ]
  },
  {
   "cell_type": "code",
   "execution_count": 4,
   "metadata": {},
   "outputs": [
    {
     "name": "stdout",
     "output_type": "stream",
     "text": [
      "1.0000000 0.0000000 % N=1 shot\n",
      "0.0000000 1.0000000 \n",
      "\n",
      "1.0000000 0.0000000 % N=2 shots\n",
      "0.0000000 1.0000000 \n",
      "\n",
      "1.0000000 0.0000000 % N=4 shots\n",
      "0.0000000 1.0000000 \n",
      "\n",
      "1.0000000 0.0000000 % N=8 shots\n",
      "0.0000000 1.0000000 \n",
      "\n",
      "1.0000000 0.0000000 % N=16 shots\n",
      "0.0000000 1.0000000 \n",
      "\n",
      "0.9687500 0.0312500 % N=32 shots\n",
      "0.0312500 0.9687500 \n",
      "\n",
      "0.9843750 0.0000000 % N=64 shots\n",
      "0.0156250 1.0000000 \n",
      "\n",
      "0.9921875 0.0156250 % N=128 shots\n",
      "0.0078125 0.9843750 \n",
      "\n",
      "0.9882812 0.0156250 % N=256 shots\n",
      "0.0117187 0.9843750 \n",
      "\n",
      "0.9824218 0.0175781 % N=512 shots\n",
      "0.0175781 0.9824218 \n",
      "\n",
      "0.9892578 0.0214843 % N=1024 shots\n",
      "0.0107421 0.9785156 \n",
      "\n",
      "0.9902343 0.0297851 % N=2048 shots\n",
      "0.0097656 0.9702148 \n",
      "\n",
      "0.9826660 0.0288085 % N=4096 shots\n",
      "0.0173339 0.9711914 \n",
      "\n",
      "0.9884033 0.0261230 % N=8192 shots\n",
      "0.0115966 0.9738769 \n",
      "\n"
     ]
    }
   ],
   "source": [
    "G7(A)"
   ]
  },
  {
   "cell_type": "code",
   "execution_count": 5,
   "metadata": {},
   "outputs": [
    {
     "name": "stdout",
     "output_type": "stream",
     "text": [
      "1.0000000 0.0000000 % N=1 shot\n",
      "0.0000000 1.0000000 \n",
      "\n",
      "1.0000000 0.0000000 % N=2 shots\n",
      "0.0000000 1.0000000 \n",
      "\n",
      "1.0000000 0.0000000 % N=4 shots\n",
      "0.0000000 1.0000000 \n",
      "\n",
      "1.0000000 0.0000000 % N=8 shots\n",
      "0.0000000 1.0000000 \n",
      "\n",
      "1.0000000 0.0625000 % N=16 shots\n",
      "0.0000000 0.9375000 \n",
      "\n",
      "1.0000000 0.0625000 % N=32 shots\n",
      "0.0000000 0.9375000 \n",
      "\n",
      "1.0000000 0.0312500 % N=64 shots\n",
      "0.0000000 0.9687500 \n",
      "\n",
      "1.0000000 0.0312500 % N=128 shots\n",
      "0.0000000 0.9687500 \n",
      "\n",
      "1.0000000 0.0273437 % N=256 shots\n",
      "0.0000000 0.9726562 \n",
      "\n",
      "1.0000000 0.0156250 % N=512 shots\n",
      "0.0000000 0.9843750 \n",
      "\n",
      "1.0000000 0.0234375 % N=1024 shots\n",
      "0.0000000 0.9765625 \n",
      "\n",
      "1.0000000 0.0263671 % N=2048 shots\n",
      "0.0000000 0.9736328 \n",
      "\n",
      "1.0000000 0.0334472 % N=4096 shots\n",
      "0.0000000 0.9665527 \n",
      "\n",
      "1.0000000 0.0262451 % N=8192 shots\n",
      "0.0000000 0.9737548 \n",
      "\n"
     ]
    }
   ],
   "source": [
    "G7(B)"
   ]
  },
  {
   "cell_type": "code",
   "execution_count": null,
   "metadata": {},
   "outputs": [],
   "source": []
  }
 ],
 "metadata": {
  "kernelspec": {
   "display_name": "Python 3",
   "language": "python",
   "name": "python3"
  },
  "language_info": {
   "codemirror_mode": {
    "name": "ipython",
    "version": 3
   },
   "file_extension": ".py",
   "mimetype": "text/x-python",
   "name": "python",
   "nbconvert_exporter": "python",
   "pygments_lexer": "ipython3",
   "version": "3.7.4"
  }
 },
 "nbformat": 4,
 "nbformat_minor": 2
}
