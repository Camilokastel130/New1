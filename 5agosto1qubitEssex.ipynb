{
 "cells": [
  {
   "cell_type": "code",
   "execution_count": 1,
   "metadata": {},
   "outputs": [
    {
     "data": {
      "text/plain": [
       "[<IBMQSimulator('ibmq_qasm_simulator') from IBMQ(hub='ibm-q', group='open', project='main')>,\n",
       " <IBMQBackend('ibmqx2') from IBMQ(hub='ibm-q', group='open', project='main')>,\n",
       " <IBMQBackend('ibmq_16_melbourne') from IBMQ(hub='ibm-q', group='open', project='main')>,\n",
       " <IBMQBackend('ibmq_vigo') from IBMQ(hub='ibm-q', group='open', project='main')>,\n",
       " <IBMQBackend('ibmq_ourense') from IBMQ(hub='ibm-q', group='open', project='main')>,\n",
       " <IBMQBackend('ibmq_valencia') from IBMQ(hub='ibm-q', group='open', project='main')>,\n",
       " <IBMQBackend('ibmq_london') from IBMQ(hub='ibm-q', group='open', project='main')>,\n",
       " <IBMQBackend('ibmq_burlington') from IBMQ(hub='ibm-q', group='open', project='main')>,\n",
       " <IBMQBackend('ibmq_essex') from IBMQ(hub='ibm-q', group='open', project='main')>,\n",
       " <IBMQBackend('ibmq_armonk') from IBMQ(hub='ibm-q', group='open', project='main')>]"
      ]
     },
     "execution_count": 1,
     "metadata": {},
     "output_type": "execute_result"
    }
   ],
   "source": [
    "# initialization\n",
    "import matplotlib.pyplot as plt\n",
    "%matplotlib inline\n",
    "import numpy as np\n",
    "\n",
    "# importing Qiskit\n",
    "from qiskit import IBMQ, BasicAer\n",
    "from qiskit.providers.ibmq import least_busy\n",
    "from qiskit import QuantumCircuit, ClassicalRegister, QuantumRegister, execute\n",
    "\n",
    "# import basic plot tools\n",
    "from qiskit.tools.visualization import plot_histogram\n",
    "\n",
    "\n",
    "IBMQ.save_account('ad3965ae3913db06521d71bba9e1208319b91a9e7ab869744cd624d63a8e898cfef58312e0819dcc2a1a2ffa59a867a4fdf5f6e225c6f2c80f28e03d3bb1a61a',overwrite=True)\n",
    "\n",
    "#IBMQ.save_account('ebadbf7da56bb61d559a2f5fecd3d1d6e60d13ce5dd374f801829f3c92cd864b124e1ad5c1fd3faa6a14a5365f9d326947df8db138604049b06192da43d6a49b',overwrite=True)\n",
    "\n",
    "#IBMQ.save_account('676f27667e5b533a92387a7716d67080d9648d217e96873f767e3834c2861bd4590a7ffbff31002cbce3f215642436c9a2e3a731e24b797ed5acd92765a463c2',overwrite=True)\n",
    "#IBMQ.save_account('ebadbf7da56bb61d559a2f5fecd3d1d6e60d13ce5dd374f801829f3c92cd864b124e1ad5c1fd3faa6a14a5365f9d326947df8db138604049b06192da43d6a49b',overwrite=True)\n",
    "\n",
    "\n",
    "\n",
    "IBMQ.load_account()\n",
    "provider = IBMQ.get_provider(hub='ibm-q')\n",
    "provider.backends() "
   ]
  },
  {
   "cell_type": "code",
   "execution_count": 2,
   "metadata": {},
   "outputs": [],
   "source": [
    "from qiskit import *"
   ]
  },
  {
   "cell_type": "code",
   "execution_count": 3,
   "metadata": {},
   "outputs": [],
   "source": [
    "from qiskit.ignis.mitigation.measurement import (complete_meas_cal,CompleteMeasFitter)"
   ]
  },
  {
   "cell_type": "code",
   "execution_count": 4,
   "metadata": {},
   "outputs": [],
   "source": [
    "import sys\n",
    "import numpy\n",
    "numpy.set_printoptions(threshold=sys.maxsize)"
   ]
  },
  {
   "cell_type": "code",
   "execution_count": 5,
   "metadata": {},
   "outputs": [],
   "source": [
    "from qiskit.ignis.mitigation.measurement import (complete_meas_cal,CompleteMeasFitter)\n",
    "\n",
    "\n",
    "n=1\n",
    "qr = QuantumRegister(n)\n",
    "cr = ClassicalRegister(n)\n",
    "    \n",
    "circuit = QuantumCircuit(qr, cr)\n",
    "barriers = True\n",
    "\n",
    "\n",
    "            # Apply Hadamard gate\n",
    "circuit.h(qr)    \n",
    "    \n",
    "\n",
    "            # Apply Z-gate \n",
    "circuit.z(qr)  \n",
    "\n",
    "            # Apply barrier \n",
    "\n",
    "\n",
    "            # Apply Hadamard gate\n",
    "circuit.h(qr) \n",
    "\n",
    "            # Measure the register\n",
    "    \n",
    "for i in range(n):\n",
    "    circuit.measure(qr[i], cr[i])"
   ]
  },
  {
   "cell_type": "code",
   "execution_count": 6,
   "metadata": {},
   "outputs": [
    {
     "data": {
      "image/png": "[encoded data removed]",
      "text/plain": [
       "<Figure size 364.812x144.48 with 1 Axes>"
      ]
     },
     "execution_count": 6,
     "metadata": {},
     "output_type": "execute_result"
    }
   ],
   "source": [
    "circuit.draw('mpl')"
   ]
  },
  {
   "cell_type": "code",
   "execution_count": 7,
   "metadata": {},
   "outputs": [],
   "source": [
    "provider = IBMQ.get_provider(hub='ibm-q')\n",
    "#device = provider.get_backend('ibmq_vigo')"
   ]
  },
  {
   "cell_type": "code",
   "execution_count": 8,
   "metadata": {},
   "outputs": [],
   "source": [
    "FidelityFull1=[]\n",
    "FidelityPartial1=[]\n",
    "FidelityNoisy1=[]\n",
    "\n",
    "JobIDFull1=[]\n",
    "JobIDPartial1=[]\n",
    "JobID_DJA1=[]\n",
    "\n",
    "MatrixFull1=[]\n",
    "MatrixPartial1=[]"
   ]
  },
  {
   "cell_type": "code",
   "execution_count": 10,
   "metadata": {},
   "outputs": [],
   "source": [
    "from qiskit.ignis.mitigation.measurement import (complete_meas_cal, CompleteMeasFitter)\n",
    "cal_circuits, state_labels = complete_meas_cal(qr=circuit.qregs[0], \n",
    "                                               circlabel='measurement_calibration')\n",
    "device = provider.get_backend('ibmq_essex')\n",
    "bit='1'\n",
    "\n",
    "for j in range (0,14):\n",
    "    \n",
    "    Trials=2**j  \n",
    "    #Trials=8192\n",
    "    \n",
    "    job = execute(circuit, backend=device, shots=Trials)\n",
    "    device_result = job.result()\n",
    "    a=device_result.get_counts(circuit).get(bit)\n",
    "    \n",
    "    \n",
    "    cal_job = execute(cal_circuits,\n",
    "             backend=device,\n",
    "             shots=Trials,\n",
    "             optimization_level=0)\n",
    "    #print(cal_job.job_id())\n",
    "\n",
    "    cal_results = cal_job.result()\n",
    "\n",
    "    index=2**n-1\n",
    "    cal_job_partial = execute(cal_circuits[index],\n",
    "             backend=device,\n",
    "             shots=Trials,\n",
    "             optimization_level=0)\n",
    "    cal_results_partial = cal_job_partial.result()\n",
    "    #JobIDPartial.append(cal_job_partial.job_id())\n",
    "   \n",
    "    meas_fitter = CompleteMeasFitter(cal_results, state_labels)\n",
    "    meas_fitter_partial = CompleteMeasFitter(cal_results_partial, state_labels)\n",
    "    for k in range (2**n-1):\n",
    "        meas_fitter_partial.cal_matrix[k,k]=1\n",
    "        \n",
    "    \n",
    "    meas_filter_partial =meas_fitter_partial.filter\n",
    "    mitigated_result_partial = meas_filter_partial.apply(device_result)\n",
    "    mitigated_counts_partial = mitigated_result_partial.get_counts(circuit)\n",
    "    \n",
    "    meas_filter =meas_fitter.filter\n",
    "    mitigated_result = meas_filter.apply(device_result)\n",
    "    mitigated_counts = mitigated_result.get_counts(circuit)\n",
    "    \n",
    "    FidelityNoisy1.append(device_result.get_counts(circuit).get(bit)/Trials)\n",
    "    FidelityPartial1.append(mitigated_counts_partial.get(bit)/Trials)\n",
    "    FidelityFull1.append(mitigated_counts.get(bit)/Trials)\n",
    "    \n",
    "    JobIDFull1.append(\"'\"+str(cal_job.job_id())+\"'\")\n",
    "    JobIDPartial1.append(\"'\"+str(cal_job_partial.job_id())+\"'\")\n",
    "    JobID_DJA1.append(\"'\"+str(job.job_id())+\"'\")\n",
    "    \n",
    "    MatrixFull1.append(meas_fitter.cal_matrix)\n",
    "    MatrixPartial1.append(meas_fitter_partial.cal_matrix)"
   ]
  },
  {
   "cell_type": "code",
   "execution_count": null,
   "metadata": {},
   "outputs": [],
   "source": []
  },
  {
   "cell_type": "code",
   "execution_count": 26,
   "metadata": {},
   "outputs": [],
   "source": [
    "def MatlabStr(array):\n",
    "    return '[' + \"; \".join(\" \".join(\"%6g\" % val for val in line) for line in array) + ']'"
   ]
  },
  {
   "cell_type": "code",
   "execution_count": null,
   "metadata": {},
   "outputs": [],
   "source": []
  },
  {
   "cell_type": "code",
   "execution_count": 11,
   "metadata": {},
   "outputs": [
    {
     "name": "stdout",
     "output_type": "stream",
     "text": [
      "[0.9999999999999998, 1.0, 0.9999999999999998, 0.9999999999999968, 0.9999999999999863, 0.9677419352171501, 1.0, 0.9344262295700315, 1.0, 0.9999999999993602, 0.9989669425025272, 0.9863908544797519, 0.9843423800672745, 1.0]\n",
      "[0.9999999999999999, 0.9999999999999996, 1.0, 1.0, 1.0, 0.9677419355500252, 0.9999999999999845, 0.9666666667300859, 0.9999999999988501, 0.9999999999878321, 0.9999999999992845, 0.9871399175565156, 0.9867515925787215, 1.0]\n",
      "[1.0, 1.0, 1.0, 1.0, 1.0, 0.9375, 0.9375, 0.90625, 0.96875, 0.96484375, 0.9599609375, 0.93701171875, 0.945556640625, 0.9608154296875]\n",
      "[\"'5f2b4044fa2efe00139611ab'\", \"'5f2b4075cbff540019b42c04'\", \"'5f2b40a8fa2efe00139611af'\", \"'5f2b40da5b470a00125d4473'\", \"'5f2b410bc79cc2001a3ac633'\", \"'5f2b413b4ae7da001b3740c0'\", \"'5f2b416d9b21aa001a1ca7e8'\", \"'5f2b419f4ae7da001b3740c4'\", \"'5f2b41d15b470a00125d447d'\", \"'5f2b4205cbff540019b42c19'\", \"'5f2b423bc79cc2001a3ac645'\", \"'5f2b42765b470a00125d4485'\", \"'5f2b42bfc79cc2001a3ac64f'\", \"'5f2b431c0ca1ba0011b3d1b6'\"]\n",
      "[\"'5f2b40550927b800133f9633'\", \"'5f2b40859b21aa001a1ca7df'\", \"'5f2b40b8cbff540019b42c0a'\", \"'5f2b40ebfa2efe00139611b2'\", \"'5f2b411b4ae7da001b3740bd'\", \"'5f2b414c4ae7da001b3740c1'\", \"'5f2b417d0927b800133f9642'\", \"'5f2b41b0fa2efe00139611bb'\", \"'5f2b41e3c79cc2001a3ac63f'\", \"'5f2b4217159e2600136cbb86'\", \"'5f2b424efa2efe00139611bf'\", \"'5f2b428df0563e001a6cba27'\", \"'5f2b42dd5b470a00125d448a'\", \"'5f2b4345c79cc2001a3ac653'\"]\n",
      "[\"'5f2b40334ae7da001b3740b0'\", \"'5f2b4065cbff540019b42c03'\", \"'5f2b40980ca1ba0011b3d19b'\", \"'5f2b40c94ae7da001b3740b9'\", \"'5f2b40fb159e2600136cbb77'\", \"'5f2b412bc79cc2001a3ac634'\", \"'5f2b415c159e2600136cbb7d'\", \"'5f2b418efa2efe00139611b9'\", \"'5f2b41c0f0563e001a6cba1f'\", \"'5f2b41f4c79cc2001a3ac641'\", \"'5f2b4227c79cc2001a3ac644'\", \"'5f2b42615b470a00125d4484'\", \"'5f2b42a35b470a00125d4488'\", \"'5f2b42f79b21aa001a1ca7fb'\"]\n",
      "[array([[1., 0.],\n",
      "       [0., 1.]]), array([[1., 0.],\n",
      "       [0., 1.]]), array([[0.75, 0.  ],\n",
      "       [0.25, 1.  ]]), array([[1., 0.],\n",
      "       [0., 1.]]), array([[1., 0.],\n",
      "       [0., 1.]]), array([[1.     , 0.03125],\n",
      "       [0.     , 0.96875]]), array([[0.984375, 0.078125],\n",
      "       [0.015625, 0.921875]]), array([[0.984375, 0.03125 ],\n",
      "       [0.015625, 0.96875 ]]), array([[0.98046875, 0.05078125],\n",
      "       [0.01953125, 0.94921875]]), array([[0.98632812, 0.04492188],\n",
      "       [0.01367188, 0.95507812]]), array([[0.984375 , 0.0390625],\n",
      "       [0.015625 , 0.9609375]]), array([[0.94775391, 0.05078125],\n",
      "       [0.05224609, 0.94921875]]), array([[0.9753418 , 0.03979492],\n",
      "       [0.0246582 , 0.96020508]]), array([[0.97033691, 0.0423584 ],\n",
      "       [0.02966309, 0.9576416 ]])]\n",
      "[array([[1., 0.],\n",
      "       [0., 1.]]), array([[1., 0.],\n",
      "       [0., 1.]]), array([[1.  , 0.25],\n",
      "       [0.  , 0.75]]), array([[1., 0.],\n",
      "       [0., 1.]]), array([[1.    , 0.0625],\n",
      "       [0.    , 0.9375]]), array([[1.     , 0.03125],\n",
      "       [0.     , 0.96875]]), array([[1.      , 0.109375],\n",
      "       [0.      , 0.890625]]), array([[1.    , 0.0625],\n",
      "       [0.    , 0.9375]]), array([[1.        , 0.06640625],\n",
      "       [0.        , 0.93359375]]), array([[1.        , 0.04296875],\n",
      "       [0.        , 0.95703125]]), array([[1.        , 0.04296875],\n",
      "       [0.        , 0.95703125]]), array([[1.        , 0.05078125],\n",
      "       [0.        , 0.94921875]]), array([[1.        , 0.04174805],\n",
      "       [0.        , 0.95825195]]), array([[1.        , 0.04321289],\n",
      "       [0.        , 0.95678711]])]\n"
     ]
    }
   ],
   "source": [
    "print(FidelityFull1)\n",
    "print(FidelityPartial1)\n",
    "print(FidelityNoisy1)\n",
    "\n",
    "print(JobIDFull1)\n",
    "print(JobIDPartial1)\n",
    "print(JobID_DJA1)\n",
    "\n",
    "print(MatrixFull1)\n",
    "print(MatrixPartial1)"
   ]
  },
  {
   "cell_type": "code",
   "execution_count": 21,
   "metadata": {},
   "outputs": [],
   "source": [
    "FullMatlab=[]\n",
    "PartialMatlab=[]"
   ]
  },
  {
   "cell_type": "code",
   "execution_count": 22,
   "metadata": {},
   "outputs": [
    {
     "name": "stdout",
     "output_type": "stream",
     "text": [
      "[     1      0;      0      1]\n",
      "[     1      0;      0      1]\n",
      "[  0.75      0;   0.25      1]\n",
      "[     1      0;      0      1]\n",
      "[     1      0;      0      1]\n",
      "[     1 0.03125;      0 0.96875]\n",
      "[0.984375 0.078125; 0.015625 0.921875]\n",
      "[0.984375 0.03125; 0.015625 0.96875]\n",
      "[0.980469 0.0507812; 0.0195312 0.949219]\n",
      "[0.986328 0.0449219; 0.0136719 0.955078]\n",
      "[0.984375 0.0390625; 0.015625 0.960938]\n",
      "[0.947754 0.0507812; 0.0522461 0.949219]\n",
      "[0.975342 0.0397949; 0.0246582 0.960205]\n",
      "[0.970337 0.0423584; 0.0296631 0.957642]\n"
     ]
    }
   ],
   "source": [
    "for j in MatrixFull1:\n",
    "    print(MatlabStr(j))\n",
    "\n"
   ]
  },
  {
   "cell_type": "code",
   "execution_count": 19,
   "metadata": {},
   "outputs": [
    {
     "data": {
      "text/plain": [
       "['[     1      0;      0      1]',\n",
       " '[     1      0;      0      1]',\n",
       " '[  0.75      0;   0.25      1]',\n",
       " '[     1      0;      0      1]',\n",
       " '[     1      0;      0      1]',\n",
       " '[     1 0.03125;      0 0.96875]',\n",
       " '[0.984375 0.078125; 0.015625 0.921875]',\n",
       " '[0.984375 0.03125; 0.015625 0.96875]',\n",
       " '[0.980469 0.0507812; 0.0195312 0.949219]',\n",
       " '[0.986328 0.0449219; 0.0136719 0.955078]',\n",
       " '[0.984375 0.0390625; 0.015625 0.960938]',\n",
       " '[0.947754 0.0507812; 0.0522461 0.949219]',\n",
       " '[0.975342 0.0397949; 0.0246582 0.960205]',\n",
       " '[0.970337 0.0423584; 0.0296631 0.957642]']"
      ]
     },
     "execution_count": 19,
     "metadata": {},
     "output_type": "execute_result"
    }
   ],
   "source": [
    "FullMatlab"
   ]
  },
  {
   "cell_type": "code",
   "execution_count": 20,
   "metadata": {},
   "outputs": [
    {
     "data": {
      "text/plain": [
       "['[     1      0;      0      1]',\n",
       " '[     1      0;      0      1]',\n",
       " '[     1   0.25;      0   0.75]',\n",
       " '[     1      0;      0      1]',\n",
       " '[     1 0.0625;      0 0.9375]',\n",
       " '[     1 0.03125;      0 0.96875]',\n",
       " '[     1 0.109375;      0 0.890625]',\n",
       " '[     1 0.0625;      0 0.9375]',\n",
       " '[     1 0.0664062;      0 0.933594]',\n",
       " '[     1 0.0429688;      0 0.957031]',\n",
       " '[     1 0.0429688;      0 0.957031]',\n",
       " '[     1 0.0507812;      0 0.949219]',\n",
       " '[     1 0.041748;      0 0.958252]',\n",
       " '[     1 0.0432129;      0 0.956787]']"
      ]
     },
     "execution_count": 20,
     "metadata": {},
     "output_type": "execute_result"
    }
   ],
   "source": [
    "PartialMatlab"
   ]
  },
  {
   "cell_type": "markdown",
   "metadata": {},
   "source": [
    "# Here I put the full matrices"
   ]
  },
  {
   "cell_type": "code",
   "execution_count": 29,
   "metadata": {},
   "outputs": [
    {
     "name": "stdout",
     "output_type": "stream",
     "text": [
      "[     1      0;      0      1]\n",
      "[     1      0;      0      1]\n",
      "[  0.75      0;   0.25      1]\n",
      "[     1      0;      0      1]\n",
      "[     1      0;      0      1]\n",
      "[     1 0.03125;      0 0.96875]\n",
      "[0.984375 0.078125; 0.015625 0.921875]\n",
      "[0.984375 0.03125; 0.015625 0.96875]\n",
      "[0.980469 0.0507812; 0.0195312 0.949219]\n",
      "[0.986328 0.0449219; 0.0136719 0.955078]\n",
      "[0.984375 0.0390625; 0.015625 0.960938]\n",
      "[0.947754 0.0507812; 0.0522461 0.949219]\n",
      "[0.975342 0.0397949; 0.0246582 0.960205]\n",
      "[0.970337 0.0423584; 0.0296631 0.957642]\n"
     ]
    }
   ],
   "source": [
    "for j in MatrixFull1:\n",
    "    print(MatlabStr(j))"
   ]
  },
  {
   "cell_type": "markdown",
   "metadata": {},
   "source": [
    "# Here the partial"
   ]
  },
  {
   "cell_type": "code",
   "execution_count": 31,
   "metadata": {},
   "outputs": [
    {
     "name": "stdout",
     "output_type": "stream",
     "text": [
      "[     1      0;      0      1]\n",
      "[     1      0;      0      1]\n",
      "[     1   0.25;      0   0.75]\n",
      "[     1      0;      0      1]\n",
      "[     1 0.0625;      0 0.9375]\n",
      "[     1 0.03125;      0 0.96875]\n",
      "[     1 0.109375;      0 0.890625]\n",
      "[     1 0.0625;      0 0.9375]\n",
      "[     1 0.0664062;      0 0.933594]\n",
      "[     1 0.0429688;      0 0.957031]\n",
      "[     1 0.0429688;      0 0.957031]\n",
      "[     1 0.0507812;      0 0.949219]\n",
      "[     1 0.041748;      0 0.958252]\n",
      "[     1 0.0432129;      0 0.956787]\n"
     ]
    }
   ],
   "source": [
    "for j in MatrixPartial1:\n",
    "    print(MatlabStr(j))"
   ]
  },
  {
   "cell_type": "code",
   "execution_count": null,
   "metadata": {},
   "outputs": [],
   "source": []
  },
  {
   "cell_type": "code",
   "execution_count": 1,
   "metadata": {},
   "outputs": [],
   "source": [
    "A=[[[1., 0.],\n",
    "       [0., 1.]], [[1., 0.],\n",
    "       [0., 1.]], [[0.75, 0.  ],\n",
    "       [0.25, 1.  ]], [[1., 0.],\n",
    "       [0., 1.]], [[1., 0.],\n",
    "       [0., 1.]], [[1.     , 0.03125],\n",
    "       [0.     , 0.96875]], [[0.984375, 0.078125],\n",
    "       [0.015625, 0.921875]], [[0.984375, 0.03125 ],\n",
    "       [0.015625, 0.96875 ]], [[0.98046875, 0.05078125],\n",
    "       [0.01953125, 0.94921875]], [[0.98632812, 0.04492188],\n",
    "       [0.01367188, 0.95507812]], [[0.984375 , 0.0390625],\n",
    "       [0.015625 , 0.9609375]], [[0.94775391, 0.05078125],\n",
    "       [0.05224609, 0.94921875]], [[0.9753418 , 0.03979492],\n",
    "       [0.0246582 , 0.96020508]], [[0.97033691, 0.0423584 ],\n",
    "       [0.02966309, 0.9576416 ]]]"
   ]
  },
  {
   "cell_type": "code",
   "execution_count": 3,
   "metadata": {},
   "outputs": [],
   "source": [
    "def stand7(w):\n",
    "    if len(str(w))<9:\n",
    "        return str(w)+(9-len(str(w)))*\"0\"  \n",
    "    else:\n",
    "        return str(w)[:9] \n",
    "\n",
    "def G7(Matarr):\n",
    "    logN=0\n",
    "    for Matr in Matarr:\n",
    "        w=0\n",
    "        for j in Matr:\n",
    "            prnt=''\n",
    "            for k in j:\n",
    "                prnt=prnt+stand7(k)+\" \"\n",
    "            if w==0:\n",
    "                if logN==0:\n",
    "                    prnt=prnt+\"% N=\"+str(2**logN)+\" shot\"\n",
    "                else:\n",
    "                    prnt=prnt+\"% N=\"+str(2**logN)+\" shots\"\n",
    "            w=w+1\n",
    "            print(prnt)\n",
    "        logN=logN+1\n",
    "        print('')"
   ]
  },
  {
   "cell_type": "code",
   "execution_count": 4,
   "metadata": {},
   "outputs": [
    {
     "name": "stdout",
     "output_type": "stream",
     "text": [
      "1.0000000 0.0000000 % N=1 shot\n",
      "0.0000000 1.0000000 \n",
      "\n",
      "1.0000000 0.0000000 % N=2 shots\n",
      "0.0000000 1.0000000 \n",
      "\n",
      "0.7500000 0.0000000 % N=4 shots\n",
      "0.2500000 1.0000000 \n",
      "\n",
      "1.0000000 0.0000000 % N=8 shots\n",
      "0.0000000 1.0000000 \n",
      "\n",
      "1.0000000 0.0000000 % N=16 shots\n",
      "0.0000000 1.0000000 \n",
      "\n",
      "1.0000000 0.0312500 % N=32 shots\n",
      "0.0000000 0.9687500 \n",
      "\n",
      "0.9843750 0.0781250 % N=64 shots\n",
      "0.0156250 0.9218750 \n",
      "\n",
      "0.9843750 0.0312500 % N=128 shots\n",
      "0.0156250 0.9687500 \n",
      "\n",
      "0.9804687 0.0507812 % N=256 shots\n",
      "0.0195312 0.9492187 \n",
      "\n",
      "0.9863281 0.0449218 % N=512 shots\n",
      "0.0136718 0.9550781 \n",
      "\n",
      "0.9843750 0.0390625 % N=1024 shots\n",
      "0.0156250 0.9609375 \n",
      "\n",
      "0.9477539 0.0507812 % N=2048 shots\n",
      "0.0522460 0.9492187 \n",
      "\n",
      "0.9753418 0.0397949 % N=4096 shots\n",
      "0.0246582 0.9602050 \n",
      "\n",
      "0.9703369 0.0423584 % N=8192 shots\n",
      "0.0296630 0.9576416 \n",
      "\n"
     ]
    }
   ],
   "source": [
    "G7(A)"
   ]
  },
  {
   "cell_type": "code",
   "execution_count": null,
   "metadata": {},
   "outputs": [],
   "source": []
  },
  {
   "cell_type": "code",
   "execution_count": null,
   "metadata": {},
   "outputs": [],
   "source": []
  },
  {
   "cell_type": "code",
   "execution_count": null,
   "metadata": {},
   "outputs": [],
   "source": []
  },
  {
   "cell_type": "code",
   "execution_count": null,
   "metadata": {},
   "outputs": [],
   "source": []
  },
  {
   "cell_type": "code",
   "execution_count": null,
   "metadata": {},
   "outputs": [],
   "source": []
  },
  {
   "cell_type": "code",
   "execution_count": 4,
   "metadata": {},
   "outputs": [
    {
     "name": "stdout",
     "output_type": "stream",
     "text": [
      "1.000000 0.000000       0.000000 1.000000\n",
      " % N=1 shot\n",
      "1.000000 0.000000       0.000000 1.000000\n",
      " % N=2 shots\n",
      "0.750000 0.000000       0.250000 1.000000\n",
      " % N=4 shots\n",
      "1.000000 0.000000       0.000000 1.000000\n",
      " % N=8 shots\n",
      "1.000000 0.000000       0.000000 1.000000\n",
      " % N=16 shots\n",
      "1.000000 0.031250       0.000000 0.968750\n",
      " % N=32 shots\n",
      "0.984375 0.078125       0.015625 0.921875\n",
      " % N=64 shots\n",
      "0.984375 0.031250       0.015625 0.968750\n",
      " % N=128 shots\n",
      "0.980469 0.050781       0.019531 0.949219\n",
      " % N=256 shots\n",
      "0.986328 0.044922       0.013672 0.955078\n",
      " % N=512 shots\n",
      "0.984375 0.039062       0.015625 0.960938\n",
      " % N=1024 shots\n",
      "0.947754 0.050781       0.052246 0.949219\n",
      " % N=2048 shots\n",
      "0.975342 0.039795       0.024658 0.960205\n",
      " % N=4096 shots\n",
      "0.970337 0.042358       0.029663 0.957642\n",
      " % N=8192 shots\n"
     ]
    }
   ],
   "source": [
    "def MatlabStr(array):\n",
    "    return  \"       \".join(\" \".join(\"%f\" % float(val) for val in line) for line in array)\n",
    "\n",
    "w=0\n",
    "\n",
    "for j in A:\n",
    "    print(MatlabStr(j))\n",
    "    if w==0:\n",
    "        print(\" % \"+\"N=\"+str(2**w)+\" shot\")\n",
    "    else:\n",
    "        print(\" % \"+\"N=\"+str(2**w)+\" shots\")\n",
    "    w=w+1"
   ]
  },
  {
   "cell_type": "markdown",
   "metadata": {},
   "source": [
    "1.000000 0.000000 % N=1 shot\n",
    "0.000000 1.000000\n",
    "\n",
    "1.000000 0.000000 % N=2 shots\n",
    "0.000000 1.000000\n",
    "\n",
    "0.750000 0.000000 % N=4 shots\n",
    "0.250000 1.000000\n",
    "\n",
    "1.000000 0.000000 % N=8 shots\n",
    "0.000000 1.000000\n",
    "\n",
    "1.000000 0.000000 % N=16 shots\n",
    "0.000000 1.000000\n",
    "\n",
    "1.000000 0.031250 % N=32 shots\n",
    "0.000000 0.968750\n",
    "\n",
    "0.984375 0.078125 % N=64 shots\n",
    "0.015625 0.921875\n",
    "\n",
    "0.984375 0.031250 % N=128 shots\n",
    "0.015625 0.968750\n",
    "\n",
    "0.980469 0.050781 % N=256 shots\n",
    "0.019531 0.949219\n",
    "\n",
    "0.986328 0.044922 % N=512 shots\n",
    "0.013672 0.955078\n",
    "\n",
    "0.984375 0.039062 % N=1024 shots\n",
    "0.015625 0.960938\n",
    "\n",
    "0.947754 0.050781 % N=2048 shots\n",
    "0.052246 0.949219\n",
    "\n",
    "0.975342 0.039795 % N=4096 shots\n",
    "0.024658 0.960205\n",
    "\n",
    "0.970337 0.042358 % N=8192 shots\n",
    "0.029663 0.957642"
   ]
  },
  {
   "cell_type": "code",
   "execution_count": 5,
   "metadata": {},
   "outputs": [],
   "source": [
    "B=[[[1., 0.],\n",
    "       [0., 1.]], [[1., 0.],\n",
    "       [0., 1.]], [[1.  , 0.25],\n",
    "       [0.  , 0.75]], [[1., 0.],\n",
    "       [0., 1.]], [[1.    , 0.0625],\n",
    "       [0.    , 0.9375]], [[1.     , 0.03125],\n",
    "       [0.     , 0.96875]], [[1.      , 0.109375],\n",
    "       [0.      , 0.890625]], [[1.    , 0.0625],\n",
    "       [0.    , 0.9375]], [[1.        , 0.06640625],\n",
    "       [0.        , 0.93359375]], [[1.        , 0.04296875],\n",
    "       [0.        , 0.95703125]], [[1.        , 0.04296875],\n",
    "       [0.        , 0.95703125]], [[1.        , 0.05078125],\n",
    "       [0.        , 0.94921875]], [[1.        , 0.04174805],\n",
    "       [0.        , 0.95825195]], [[1.        , 0.04321289],\n",
    "       [0.        , 0.95678711]]]"
   ]
  },
  {
   "cell_type": "code",
   "execution_count": 6,
   "metadata": {},
   "outputs": [
    {
     "name": "stdout",
     "output_type": "stream",
     "text": [
      "1.0000000 0.0000000 % N=1 shot\n",
      "0.0000000 1.0000000 \n",
      "\n",
      "1.0000000 0.0000000 % N=2 shots\n",
      "0.0000000 1.0000000 \n",
      "\n",
      "1.0000000 0.2500000 % N=4 shots\n",
      "0.0000000 0.7500000 \n",
      "\n",
      "1.0000000 0.0000000 % N=8 shots\n",
      "0.0000000 1.0000000 \n",
      "\n",
      "1.0000000 0.0625000 % N=16 shots\n",
      "0.0000000 0.9375000 \n",
      "\n",
      "1.0000000 0.0312500 % N=32 shots\n",
      "0.0000000 0.9687500 \n",
      "\n",
      "1.0000000 0.1093750 % N=64 shots\n",
      "0.0000000 0.8906250 \n",
      "\n",
      "1.0000000 0.0625000 % N=128 shots\n",
      "0.0000000 0.9375000 \n",
      "\n",
      "1.0000000 0.0664062 % N=256 shots\n",
      "0.0000000 0.9335937 \n",
      "\n",
      "1.0000000 0.0429687 % N=512 shots\n",
      "0.0000000 0.9570312 \n",
      "\n",
      "1.0000000 0.0429687 % N=1024 shots\n",
      "0.0000000 0.9570312 \n",
      "\n",
      "1.0000000 0.0507812 % N=2048 shots\n",
      "0.0000000 0.9492187 \n",
      "\n",
      "1.0000000 0.0417480 % N=4096 shots\n",
      "0.0000000 0.9582519 \n",
      "\n",
      "1.0000000 0.0432128 % N=8192 shots\n",
      "0.0000000 0.9567871 \n",
      "\n"
     ]
    }
   ],
   "source": [
    "G7(B)"
   ]
  },
  {
   "cell_type": "code",
   "execution_count": null,
   "metadata": {},
   "outputs": [],
   "source": []
  },
  {
   "cell_type": "code",
   "execution_count": null,
   "metadata": {},
   "outputs": [],
   "source": []
  },
  {
   "cell_type": "code",
   "execution_count": null,
   "metadata": {},
   "outputs": [],
   "source": []
  },
  {
   "cell_type": "code",
   "execution_count": null,
   "metadata": {},
   "outputs": [],
   "source": []
  },
  {
   "cell_type": "code",
   "execution_count": null,
   "metadata": {},
   "outputs": [],
   "source": []
  },
  {
   "cell_type": "code",
   "execution_count": null,
   "metadata": {},
   "outputs": [],
   "source": []
  },
  {
   "cell_type": "code",
   "execution_count": 7,
   "metadata": {},
   "outputs": [
    {
     "name": "stdout",
     "output_type": "stream",
     "text": [
      "1.000000 0.000000       0.000000 1.000000\n",
      " % N=1 shot\n",
      "1.000000 0.000000       0.000000 1.000000\n",
      " % N=2 shots\n",
      "1.000000 0.250000       0.000000 0.750000\n",
      " % N=4 shots\n",
      "1.000000 0.000000       0.000000 1.000000\n",
      " % N=8 shots\n",
      "1.000000 0.062500       0.000000 0.937500\n",
      " % N=16 shots\n",
      "1.000000 0.031250       0.000000 0.968750\n",
      " % N=32 shots\n",
      "1.000000 0.109375       0.000000 0.890625\n",
      " % N=64 shots\n",
      "1.000000 0.062500       0.000000 0.937500\n",
      " % N=128 shots\n",
      "1.000000 0.066406       0.000000 0.933594\n",
      " % N=256 shots\n",
      "1.000000 0.042969       0.000000 0.957031\n",
      " % N=512 shots\n",
      "1.000000 0.042969       0.000000 0.957031\n",
      " % N=1024 shots\n",
      "1.000000 0.050781       0.000000 0.949219\n",
      " % N=2048 shots\n",
      "1.000000 0.041748       0.000000 0.958252\n",
      " % N=4096 shots\n",
      "1.000000 0.043213       0.000000 0.956787\n",
      " % N=8192 shots\n"
     ]
    }
   ],
   "source": [
    "def MatlabStr(array):\n",
    "    return  \"       \".join(\" \".join(\"%f\" % float(val) for val in line) for line in array)\n",
    "\n",
    "w=0\n",
    "\n",
    "for j in A:\n",
    "    print(MatlabStr(j))\n",
    "    if w==0:\n",
    "        print(\" % \"+\"N=\"+str(2**w)+\" shot\")\n",
    "    else:\n",
    "        print(\" % \"+\"N=\"+str(2**w)+\" shots\")\n",
    "    w=w+1"
   ]
  },
  {
   "cell_type": "markdown",
   "metadata": {},
   "source": [
    "1.000000 0.000000 % N=1 shot\n",
    "0.000000 1.000000\n",
    "\n",
    "1.000000 0.000000 % N=2 shots\n",
    "0.000000 1.000000\n",
    "\n",
    "1.000000 0.250000 % N=4 shots \n",
    "0.000000 0.750000\n",
    "\n",
    "1.000000 0.000000 % N=8 shots \n",
    "0.000000 1.000000\n",
    "\n",
    "1.000000 0.062500 % N=16 shots  \n",
    "0.000000 0.937500\n",
    "\n",
    "1.000000 0.031250 % N=32 shots \n",
    "0.000000 0.968750\n",
    "\n",
    "1.000000 0.109375 % N=64 shots\n",
    "0.000000 0.890625\n",
    "\n",
    "1.000000 0.062500 % N=128 shots  \n",
    "0.000000 0.937500\n",
    "\n",
    "1.000000 0.066406 % N=256 shots   \n",
    "0.000000 0.933594\n",
    "\n",
    "1.000000 0.042969 % N=512 shots    \n",
    "0.000000 0.957031\n",
    "\n",
    "1.000000 0.042969 % N=1024 shots   \n",
    "0.000000 0.957031\n",
    "\n",
    "1.000000 0.050781 % N=2048 shots    \n",
    "0.000000 0.949219\n",
    "\n",
    "1.000000 0.041748 % N=4096 shots   \n",
    "0.000000 0.958252\n",
    "\n",
    "1.000000 0.043213 % N=8192 shots   \n",
    "0.000000 0.956787\n"
   ]
  }
 ],
 "metadata": {
  "kernelspec": {
   "display_name": "Python 3",
   "language": "python",
   "name": "python3"
  },
  "language_info": {
   "codemirror_mode": {
    "name": "ipython",
    "version": 3
   },
   "file_extension": ".py",
   "mimetype": "text/x-python",
   "name": "python",
   "nbconvert_exporter": "python",
   "pygments_lexer": "ipython3",
   "version": "3.7.4"
  }
 },
 "nbformat": 4,
 "nbformat_minor": 2
}
